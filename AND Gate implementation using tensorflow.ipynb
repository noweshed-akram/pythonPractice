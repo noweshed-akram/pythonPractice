{
 "cells": [
  {
   "cell_type": "code",
   "execution_count": 1,
   "metadata": {},
   "outputs": [
    {
     "name": "stdout",
     "output_type": "stream",
     "text": [
      "WARNING:tensorflow:From C:\\Users\\nowes\\anaconda3\\lib\\site-packages\\tensorflow\\python\\compat\\v2_compat.py:96: disable_resource_variables (from tensorflow.python.ops.variable_scope) is deprecated and will be removed in a future version.\n",
      "Instructions for updating:\n",
      "non-resource variables are not supported in the long term\n"
     ]
    }
   ],
   "source": [
    "# import tensorflow as tf\n",
    "import tensorflow.compat.v1 as tf\n",
    "tf.disable_v2_behavior()"
   ]
  },
  {
   "cell_type": "code",
   "execution_count": 2,
   "metadata": {},
   "outputs": [],
   "source": [
    "import numpy as np"
   ]
  },
  {
   "cell_type": "code",
   "execution_count": 3,
   "metadata": {},
   "outputs": [],
   "source": [
    "x_=tf.placeholder(tf.float32,shape=(4,2),name=\"x_input\")"
   ]
  },
  {
   "cell_type": "code",
   "execution_count": 4,
   "metadata": {},
   "outputs": [],
   "source": [
    "x_inputs=[\n",
    "    [0,0],\n",
    "    [0,1],\n",
    "    [1,0],\n",
    "    [1,1]\n",
    "]"
   ]
  },
  {
   "cell_type": "code",
   "execution_count": 5,
   "metadata": {},
   "outputs": [],
   "source": [
    "#Target output that we know\n",
    "y_inputs=[\n",
    "    [0],\n",
    "    [0],\n",
    "    [0],\n",
    "    [1]\n",
    "]\n"
   ]
  },
  {
   "cell_type": "code",
   "execution_count": 6,
   "metadata": {},
   "outputs": [],
   "source": [
    "y_=tf.placeholder(tf.float32,shape=(4,1),name=\"y_input\")"
   ]
  },
  {
   "cell_type": "markdown",
   "metadata": {},
   "source": [
    "### Defining the weights w in a random fashion"
   ]
  },
  {
   "cell_type": "code",
   "execution_count": 7,
   "metadata": {},
   "outputs": [],
   "source": [
    "w=tf.Variable(tf.random_uniform([2,1],-1,1),name=\"weight\")"
   ]
  },
  {
   "cell_type": "code",
   "execution_count": null,
   "metadata": {},
   "outputs": [],
   "source": []
  },
  {
   "cell_type": "code",
   "execution_count": 8,
   "metadata": {},
   "outputs": [
    {
     "data": {
      "text/plain": [
       "list"
      ]
     },
     "execution_count": 8,
     "metadata": {},
     "output_type": "execute_result"
    }
   ],
   "source": [
    "type(x_inputs)\n"
   ]
  },
  {
   "cell_type": "code",
   "execution_count": 9,
   "metadata": {},
   "outputs": [
    {
     "data": {
      "text/plain": [
       "tensorflow.python.framework.ops.Tensor"
      ]
     },
     "execution_count": 9,
     "metadata": {},
     "output_type": "execute_result"
    }
   ],
   "source": [
    "type(x_)"
   ]
  },
  {
   "cell_type": "markdown",
   "metadata": {},
   "source": [
    "### Defining the base value"
   ]
  },
  {
   "cell_type": "code",
   "execution_count": 10,
   "metadata": {},
   "outputs": [],
   "source": [
    "b=tf.Variable(tf.zeros([1]),name=\"Bias\")"
   ]
  },
  {
   "cell_type": "code",
   "execution_count": 11,
   "metadata": {},
   "outputs": [
    {
     "name": "stdout",
     "output_type": "stream",
     "text": [
      "[0.]\n",
      "[[0. 0.]\n",
      " [0. 1.]\n",
      " [1. 0.]\n",
      " [1. 1.]]\n"
     ]
    }
   ],
   "source": [
    "with tf.Session() as sess:\n",
    "    sess.run(tf.global_variables_initializer())\n",
    "    print(b.eval())\n",
    "    print(sess.run(x_,feed_dict={x_:x_inputs}))"
   ]
  },
  {
   "cell_type": "code",
   "execution_count": 12,
   "metadata": {},
   "outputs": [
    {
     "name": "stdout",
     "output_type": "stream",
     "text": [
      "Printing x_inputs\n",
      "----------------------\n",
      " [[0. 0.]\n",
      " [0. 1.]\n",
      " [1. 0.]\n",
      " [1. 1.]]\n",
      "\n",
      "\n",
      "Printing y_outputs (target output)\n",
      "---------------------------------\n",
      " [[0.]\n",
      " [0.]\n",
      " [0.]\n",
      " [1.]]\n",
      "\n",
      "\n",
      "Printing b Values:\n",
      "--------------------\n",
      " [0.]\n",
      "\n",
      "\n",
      "Printing w Values:\n",
      "--------------------\n",
      " [[ 0.6695485]\n",
      " [-0.5784614]]\n",
      "\n",
      "\n"
     ]
    }
   ],
   "source": [
    "with tf.Session() as sess:\n",
    "    sess.run(tf.global_variables_initializer())\n",
    "    print(\"Printing x_inputs\\n----------------------\\n {}\\n\\n\".format(sess.run(x_,feed_dict={x_:x_inputs})))\n",
    "    print(\"Printing y_outputs (target output)\\n---------------------------------\\n {}\\n\\n\".format(sess.run(y_,feed_dict={y_:y_inputs})))\n",
    "    print(\"Printing b Values:\\n--------------------\\n {}\\n\\n\".format(b.eval()))\n",
    "    print(\"Printing w Values:\\n--------------------\\n {}\\n\\n\".format(w.eval()))"
   ]
  },
  {
   "cell_type": "code",
   "execution_count": 13,
   "metadata": {},
   "outputs": [],
   "source": [
    "y_pred=tf.sigmoid(tf.matmul(x_,w)+b)"
   ]
  },
  {
   "cell_type": "code",
   "execution_count": 14,
   "metadata": {},
   "outputs": [
    {
     "name": "stdout",
     "output_type": "stream",
     "text": [
      "Printing Y_Predicted:\n",
      "-----------------------------\n",
      " [[0.5      ]\n",
      " [0.5777701]\n",
      " [0.6359243]\n",
      " [0.7050252]]\n",
      "\n",
      "\n"
     ]
    }
   ],
   "source": [
    "with tf.Session() as sess:\n",
    "    sess.run(tf.global_variables_initializer())\n",
    "    print(\"Printing Y_Predicted:\\n-----------------------------\\n {}\\n\\n\".format(sess.run(y_pred,feed_dict={x_:x_inputs})))\n",
    "  "
   ]
  },
  {
   "cell_type": "code",
   "execution_count": 15,
   "metadata": {},
   "outputs": [],
   "source": [
    "cost=tf.reduce_mean((y_*tf.log(y_pred)+(1.0-y_)*tf.log(1.0-y_pred))*-1)"
   ]
  },
  {
   "cell_type": "code",
   "execution_count": 16,
   "metadata": {},
   "outputs": [
    {
     "data": {
      "text/plain": [
       "<tf.Tensor 'Mean:0' shape=() dtype=float32>"
      ]
     },
     "execution_count": 16,
     "metadata": {},
     "output_type": "execute_result"
    }
   ],
   "source": [
    "cost"
   ]
  },
  {
   "cell_type": "code",
   "execution_count": 17,
   "metadata": {},
   "outputs": [],
   "source": [
    "learning_rate=0.01"
   ]
  },
  {
   "cell_type": "code",
   "execution_count": 18,
   "metadata": {},
   "outputs": [],
   "source": [
    "training_step=tf.train.GradientDescentOptimizer(learning_rate).minimize(cost)"
   ]
  },
  {
   "cell_type": "markdown",
   "metadata": {},
   "source": [
    "#### Setup is compleated, now we will go for execution"
   ]
  },
  {
   "cell_type": "code",
   "execution_count": 19,
   "metadata": {},
   "outputs": [
    {
     "name": "stdout",
     "output_type": "stream",
     "text": [
      "WARNING:tensorflow:Passing a `GraphDef` to the SummaryWriter is deprecated. Pass a `Graph` object instead, such as `sess.graph`.\n",
      "Printing Y_Predicted (Before Training):\n",
      "-----------------------------\n",
      " [[0.5       ]\n",
      " [0.31221068]\n",
      " [0.5005795 ]\n",
      " [0.31270862]]\n",
      "\n",
      "\n",
      "Cost Function (Initial):\n",
      "--------------------\n",
      "0.7310525178909302 \n",
      "\n",
      "\n",
      "Training (Updating the cost function- minimizing):\n",
      "----------------------------------\n",
      "\n",
      "Final Y_prediction (After Training)\n",
      "------------------------\n",
      " [[1.2626682e-05]\n",
      " [2.0335406e-02]\n",
      " [2.0335406e-02]\n",
      " [9.7152972e-01]] \n",
      "\n",
      "\n",
      "0.01749675\n"
     ]
    }
   ],
   "source": [
    "with tf.Session() as sess:\n",
    "    writer=tf.summary.FileWriter(\"./Downloads/AND_W3C1\",sess.graph_def)\n",
    "    dummyCostList=[]\n",
    "    sess.run(tf.global_variables_initializer())\n",
    "    #print(\"Printing hidden layer values (H34):\\n............................\\n {}\\n\\n\".format(sess.run(h34,feed_dict={x_:x_inputs})))\n",
    "    \n",
    "    print(\"Printing Y_Predicted (Before Training):\\n-----------------------------\\n {}\\n\\n\".format(sess.run(y_pred,feed_dict={x_:x_inputs})))\n",
    "    print(\"Cost Function (Initial):\\n--------------------\\n{} \\n\\n\".format(sess.run(cost,feed_dict={x_:x_inputs,y_:y_inputs})))\n",
    "    \n",
    "    #checking the cost function after each training step\n",
    "    print(\"Training (Updating the cost function- minimizing):\\n----------------------------------\\n\")\n",
    "    for step in range(100000):\n",
    "        #print(step,end=\" \")\n",
    "        _,loss_val,pred_y,weight,bias=\\\n",
    "            sess.run([training_step,cost,y_pred,w,b],feed_dict={x_:x_inputs,y_:y_inputs})\n",
    "        #print(\"Cost/Y_pred/Weight/Bias (Updated @ step {}):\\n{}:\\n\\n{}:\\n\\n{}:\\n\\n{}\".\\\n",
    "              #format(step,loss_val,pred_y,weight,bias))\n",
    "        dummyCostList.append(loss_val)\n",
    "    #print(\"\\n\\n\")\n",
    "    print(\"Final Y_prediction (After Training)\\n------------------------\\n {} \\n\\n\".format(sess.run(y_pred,feed_dict={x_:x_inputs,y_:y_inputs})))\n",
    "    print(dummyCostList[-1])\n",
    "    "
   ]
  },
  {
   "cell_type": "code",
   "execution_count": 20,
   "metadata": {},
   "outputs": [],
   "source": [
    "import tensorboard"
   ]
  },
  {
   "cell_type": "code",
   "execution_count": null,
   "metadata": {},
   "outputs": [],
   "source": [
    "# %%cmd\n",
    "# tensorboard --logdir=./Downloads/AND_W3C1 --host=127.0.0.1"
   ]
  },
  {
   "cell_type": "code",
   "execution_count": null,
   "metadata": {},
   "outputs": [],
   "source": []
  }
 ],
 "metadata": {
  "kernelspec": {
   "display_name": "Python 3",
   "language": "python",
   "name": "python3"
  },
  "language_info": {
   "codemirror_mode": {
    "name": "ipython",
    "version": 3
   },
   "file_extension": ".py",
   "mimetype": "text/x-python",
   "name": "python",
   "nbconvert_exporter": "python",
   "pygments_lexer": "ipython3",
   "version": "3.8.8"
  }
 },
 "nbformat": 4,
 "nbformat_minor": 2
}
