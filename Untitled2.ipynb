{
 "cells": [
  {
   "cell_type": "code",
   "execution_count": 74,
   "metadata": {},
   "outputs": [],
   "source": [
    "import tensorflow as tf"
   ]
  },
  {
   "cell_type": "code",
   "execution_count": 2,
   "metadata": {},
   "outputs": [],
   "source": [
    "from tensorflow import keras"
   ]
  },
  {
   "cell_type": "code",
   "execution_count": 3,
   "metadata": {},
   "outputs": [],
   "source": [
    "import numpy as np"
   ]
  },
  {
   "cell_type": "code",
   "execution_count": 4,
   "metadata": {},
   "outputs": [],
   "source": [
    "model=keras.Sequential()"
   ]
  },
  {
   "cell_type": "code",
   "execution_count": 5,
   "metadata": {},
   "outputs": [],
   "source": [
    "layer1=keras.layers.Dense(64,activation=\"relu\",input_shape=(14,))"
   ]
  },
  {
   "cell_type": "code",
   "execution_count": 6,
   "metadata": {},
   "outputs": [],
   "source": [
    "layer2=keras.layers.Dense(64,activation=\"relu\")"
   ]
  },
  {
   "cell_type": "code",
   "execution_count": 7,
   "metadata": {},
   "outputs": [],
   "source": [
    "layer3=keras.layers.Dense(10,activation=\"relu\")"
   ]
  },
  {
   "cell_type": "code",
   "execution_count": 8,
   "metadata": {},
   "outputs": [],
   "source": [
    "model.add(layer1)"
   ]
  },
  {
   "cell_type": "code",
   "execution_count": 9,
   "metadata": {},
   "outputs": [],
   "source": [
    "model.add(layer2)"
   ]
  },
  {
   "cell_type": "code",
   "execution_count": 10,
   "metadata": {},
   "outputs": [],
   "source": [
    "model.add(layer3)"
   ]
  },
  {
   "cell_type": "code",
   "execution_count": 12,
   "metadata": {},
   "outputs": [],
   "source": [
    "model.compile(optimizer=tf.keras.optimizers.RMSprop(0.01),loss=\"mse\",metrics=[\"mae\"])"
   ]
  },
  {
   "cell_type": "code",
   "execution_count": 13,
   "metadata": {},
   "outputs": [],
   "source": [
    "data=np.random.random((1000,14))"
   ]
  },
  {
   "cell_type": "code",
   "execution_count": 14,
   "metadata": {},
   "outputs": [],
   "source": [
    "labels=np.random.random((1000,10))"
   ]
  },
  {
   "cell_type": "code",
   "execution_count": 15,
   "metadata": {},
   "outputs": [],
   "source": [
    "val_data=np.random.random((100,14))"
   ]
  },
  {
   "cell_type": "code",
   "execution_count": 16,
   "metadata": {},
   "outputs": [],
   "source": [
    "val_labels=np.random.random((100,10))"
   ]
  },
  {
   "cell_type": "code",
   "execution_count": 17,
   "metadata": {},
   "outputs": [
    {
     "data": {
      "text/plain": [
       "(1000, 14)"
      ]
     },
     "execution_count": 17,
     "metadata": {},
     "output_type": "execute_result"
    }
   ],
   "source": [
    "data.shape"
   ]
  },
  {
   "cell_type": "code",
   "execution_count": null,
   "metadata": {},
   "outputs": [],
   "source": []
  },
  {
   "cell_type": "code",
   "execution_count": 18,
   "metadata": {},
   "outputs": [
    {
     "name": "stdout",
     "output_type": "stream",
     "text": [
      "Epoch 1/10\n",
      "32/32 - 0s - loss: 0.1433 - mae: 0.2958 - val_loss: 0.1412 - val_mae: 0.3080\n",
      "Epoch 2/10\n",
      "32/32 - 0s - loss: 0.0953 - mae: 0.2610 - val_loss: 0.1389 - val_mae: 0.3059\n",
      "Epoch 3/10\n",
      "32/32 - 0s - loss: 0.0928 - mae: 0.2589 - val_loss: 0.0929 - val_mae: 0.2617\n",
      "Epoch 4/10\n",
      "32/32 - 0s - loss: 0.0866 - mae: 0.2521 - val_loss: 0.1034 - val_mae: 0.2741\n",
      "Epoch 5/10\n",
      "32/32 - 0s - loss: 0.0867 - mae: 0.2526 - val_loss: 0.0888 - val_mae: 0.2553\n",
      "Epoch 6/10\n",
      "32/32 - 0s - loss: 0.0853 - mae: 0.2505 - val_loss: 0.0893 - val_mae: 0.2577\n",
      "Epoch 7/10\n",
      "32/32 - 0s - loss: 0.0840 - mae: 0.2495 - val_loss: 0.0909 - val_mae: 0.2572\n",
      "Epoch 8/10\n",
      "32/32 - 0s - loss: 0.0842 - mae: 0.2497 - val_loss: 0.0900 - val_mae: 0.2558\n",
      "Epoch 9/10\n",
      "32/32 - 0s - loss: 0.0832 - mae: 0.2476 - val_loss: 0.0939 - val_mae: 0.2600\n",
      "Epoch 10/10\n",
      "32/32 - 0s - loss: 0.0834 - mae: 0.2476 - val_loss: 0.0895 - val_mae: 0.2556\n"
     ]
    }
   ],
   "source": [
    "history=model.fit(data,labels,epochs=10,verbose=2,validation_data=(val_data,val_labels),batch_size=32)"
   ]
  },
  {
   "cell_type": "code",
   "execution_count": 19,
   "metadata": {},
   "outputs": [
    {
     "data": {
      "text/plain": [
       "[0.1411861926317215,\n",
       " 0.13888710737228394,\n",
       " 0.09293001890182495,\n",
       " 0.10341925919055939,\n",
       " 0.08880618959665298,\n",
       " 0.08926268666982651,\n",
       " 0.09086764603853226,\n",
       " 0.09002457559108734,\n",
       " 0.09392905980348587,\n",
       " 0.08952073007822037]"
      ]
     },
     "execution_count": 19,
     "metadata": {},
     "output_type": "execute_result"
    }
   ],
   "source": [
    "history.history[\"val_loss\"]"
   ]
  },
  {
   "cell_type": "code",
   "execution_count": 20,
   "metadata": {},
   "outputs": [
    {
     "data": {
      "text/plain": [
       "array([[0.03437327, 0.96596187],\n",
       "       [0.08901208, 0.7303438 ]])"
      ]
     },
     "execution_count": 20,
     "metadata": {},
     "output_type": "execute_result"
    }
   ],
   "source": [
    "np.random.random((2,2))"
   ]
  },
  {
   "cell_type": "code",
   "execution_count": 21,
   "metadata": {},
   "outputs": [
    {
     "data": {
      "text/plain": [
       "(1000, 14)"
      ]
     },
     "execution_count": 21,
     "metadata": {},
     "output_type": "execute_result"
    }
   ],
   "source": [
    "data.shape"
   ]
  },
  {
   "cell_type": "code",
   "execution_count": 22,
   "metadata": {},
   "outputs": [],
   "source": [
    "dataset=tf.data.Dataset.from_tensor_slices((data,labels))"
   ]
  },
  {
   "cell_type": "code",
   "execution_count": 23,
   "metadata": {},
   "outputs": [],
   "source": [
    "dataset=dataset.batch(32)"
   ]
  },
  {
   "cell_type": "code",
   "execution_count": 24,
   "metadata": {},
   "outputs": [],
   "source": [
    "dataset=dataset.repeat()"
   ]
  },
  {
   "cell_type": "code",
   "execution_count": 25,
   "metadata": {},
   "outputs": [
    {
     "data": {
      "text/plain": [
       "<RepeatDataset shapes: ((None, 14), (None, 10)), types: (tf.float64, tf.float64)>"
      ]
     },
     "execution_count": 25,
     "metadata": {},
     "output_type": "execute_result"
    }
   ],
   "source": [
    "dataset"
   ]
  },
  {
   "cell_type": "code",
   "execution_count": 26,
   "metadata": {},
   "outputs": [
    {
     "data": {
      "text/plain": [
       "tensorflow.python.data.ops.dataset_ops.RepeatDataset"
      ]
     },
     "execution_count": 26,
     "metadata": {},
     "output_type": "execute_result"
    }
   ],
   "source": [
    "type(dataset)"
   ]
  },
  {
   "cell_type": "code",
   "execution_count": null,
   "metadata": {},
   "outputs": [],
   "source": []
  },
  {
   "cell_type": "code",
   "execution_count": 27,
   "metadata": {},
   "outputs": [],
   "source": [
    "test_data=np.random.random((200,14))\n",
    "test_labels=np.random.random((200,10))"
   ]
  },
  {
   "cell_type": "code",
   "execution_count": 28,
   "metadata": {},
   "outputs": [
    {
     "data": {
      "text/plain": [
       "array([0.88603433, 0.74641178, 0.58363046, 0.57934355, 0.1945401 ,\n",
       "       0.65495884, 0.89647219, 0.12509373, 0.42598195, 0.29915233])"
      ]
     },
     "execution_count": 28,
     "metadata": {},
     "output_type": "execute_result"
    }
   ],
   "source": [
    "test_labels[0]"
   ]
  },
  {
   "cell_type": "code",
   "execution_count": 29,
   "metadata": {},
   "outputs": [],
   "source": [
    "loss,mae=model.evaluate(test_data,test_labels,verbose=0)"
   ]
  },
  {
   "cell_type": "code",
   "execution_count": 30,
   "metadata": {},
   "outputs": [
    {
     "data": {
      "text/plain": [
       "0.08865481615066528"
      ]
     },
     "execution_count": 30,
     "metadata": {},
     "output_type": "execute_result"
    }
   ],
   "source": [
    "loss"
   ]
  },
  {
   "cell_type": "code",
   "execution_count": 31,
   "metadata": {},
   "outputs": [
    {
     "data": {
      "text/plain": [
       "0.25368571281433105"
      ]
     },
     "execution_count": 31,
     "metadata": {},
     "output_type": "execute_result"
    }
   ],
   "source": [
    "mae"
   ]
  },
  {
   "cell_type": "code",
   "execution_count": 32,
   "metadata": {},
   "outputs": [],
   "source": [
    "test_predictions=model.predict(test_data)"
   ]
  },
  {
   "cell_type": "code",
   "execution_count": 33,
   "metadata": {},
   "outputs": [
    {
     "data": {
      "text/plain": [
       "(200, 10)"
      ]
     },
     "execution_count": 33,
     "metadata": {},
     "output_type": "execute_result"
    }
   ],
   "source": [
    "test_predictions.shape"
   ]
  },
  {
   "cell_type": "code",
   "execution_count": 34,
   "metadata": {},
   "outputs": [],
   "source": [
    "error=test_predictions-test_labels"
   ]
  },
  {
   "cell_type": "code",
   "execution_count": 35,
   "metadata": {},
   "outputs": [
    {
     "data": {
      "text/plain": [
       "array([-0.30617186, -0.28904469, -0.017644  ,  0.0379324 ,  0.23352818,\n",
       "       -0.13857334, -0.43619625,  0.43641886,  0.05797102,  0.15319054])"
      ]
     },
     "execution_count": 35,
     "metadata": {},
     "output_type": "execute_result"
    }
   ],
   "source": [
    "error[0]"
   ]
  },
  {
   "cell_type": "code",
   "execution_count": 36,
   "metadata": {},
   "outputs": [],
   "source": [
    "import matplotlib.pyplot as plt\n"
   ]
  },
  {
   "cell_type": "code",
   "execution_count": 37,
   "metadata": {},
   "outputs": [
    {
     "data": {
      "text/plain": [
       "<matplotlib.collections.PathCollection at 0x18753fa3b20>"
      ]
     },
     "execution_count": 37,
     "metadata": {},
     "output_type": "execute_result"
    },
    {
     "data": {
      "image/png": "[encoded data removed]",
      "text/plain": [
       "<Figure size 432x288 with 1 Axes>"
      ]
     },
     "metadata": {
      "needs_background": "light"
     },
     "output_type": "display_data"
    }
   ],
   "source": [
    "plt.scatter(test_labels,test_predictions)"
   ]
  },
  {
   "cell_type": "code",
   "execution_count": 38,
   "metadata": {},
   "outputs": [],
   "source": [
    "model1=keras.Sequential()"
   ]
  },
  {
   "cell_type": "code",
   "execution_count": 39,
   "metadata": {},
   "outputs": [],
   "source": [
    "inputs=keras.Input(shape=(14,)) #(? X 14)"
   ]
  },
  {
   "cell_type": "code",
   "execution_count": 40,
   "metadata": {},
   "outputs": [],
   "source": [
    "x=keras.layers.Dense(64,activation=\"relu\")(inputs)\n"
   ]
  },
  {
   "cell_type": "code",
   "execution_count": null,
   "metadata": {},
   "outputs": [],
   "source": []
  },
  {
   "cell_type": "code",
   "execution_count": 41,
   "metadata": {},
   "outputs": [
    {
     "name": "stdout",
     "output_type": "stream",
     "text": [
      "Model: \"sequential\"\n",
      "_________________________________________________________________\n",
      "Layer (type)                 Output Shape              Param #   \n",
      "=================================================================\n",
      "dense (Dense)                (None, 64)                960       \n",
      "_________________________________________________________________\n",
      "dense_1 (Dense)              (None, 64)                4160      \n",
      "_________________________________________________________________\n",
      "dense_2 (Dense)              (None, 10)                650       \n",
      "=================================================================\n",
      "Total params: 5,770\n",
      "Trainable params: 5,770\n",
      "Non-trainable params: 0\n",
      "_________________________________________________________________\n"
     ]
    }
   ],
   "source": [
    "model.summary()"
   ]
  },
  {
   "cell_type": "code",
   "execution_count": null,
   "metadata": {},
   "outputs": [],
   "source": []
  },
  {
   "cell_type": "code",
   "execution_count": 42,
   "metadata": {},
   "outputs": [
    {
     "name": "stdout",
     "output_type": "stream",
     "text": [
      "Model: \"sequential\"\n",
      "_________________________________________________________________\n",
      "Layer (type)                 Output Shape              Param #   \n",
      "=================================================================\n",
      "dense (Dense)                (None, 64)                960       \n",
      "_________________________________________________________________\n",
      "dense_1 (Dense)              (None, 64)                4160      \n",
      "_________________________________________________________________\n",
      "dense_2 (Dense)              (None, 10)                650       \n",
      "=================================================================\n",
      "Total params: 5,770\n",
      "Trainable params: 5,770\n",
      "Non-trainable params: 0\n",
      "_________________________________________________________________\n"
     ]
    }
   ],
   "source": [
    "model.summary()"
   ]
  },
  {
   "cell_type": "code",
   "execution_count": null,
   "metadata": {},
   "outputs": [],
   "source": []
  },
  {
   "cell_type": "code",
   "execution_count": 43,
   "metadata": {},
   "outputs": [],
   "source": [
    "import h5py"
   ]
  },
  {
   "cell_type": "code",
   "execution_count": 45,
   "metadata": {},
   "outputs": [],
   "source": [
    "from tensorflow.keras.models import load_model"
   ]
  },
  {
   "cell_type": "code",
   "execution_count": 46,
   "metadata": {},
   "outputs": [
    {
     "name": "stdout",
     "output_type": "stream",
     "text": [
      "WARNING:tensorflow:From C:\\Users\\nowes\\anaconda3\\lib\\site-packages\\tensorflow\\python\\training\\tracking\\tracking.py:111: Model.state_updates (from tensorflow.python.keras.engine.training) is deprecated and will be removed in a future version.\n",
      "Instructions for updating:\n",
      "This property should not be used in TensorFlow 2.0, as updates are applied automatically.\n",
      "WARNING:tensorflow:From C:\\Users\\nowes\\anaconda3\\lib\\site-packages\\tensorflow\\python\\training\\tracking\\tracking.py:111: Layer.updates (from tensorflow.python.keras.engine.base_layer) is deprecated and will be removed in a future version.\n",
      "Instructions for updating:\n",
      "This property should not be used in TensorFlow 2.0, as updates are applied automatically.\n",
      "INFO:tensorflow:Assets written to: my_model\\assets\n"
     ]
    }
   ],
   "source": [
    "model.save('my_model')  # creates a HDF5 file 'my_model.h5'\n",
    "del model  # deletes the existing model\n",
    "\n",
    "# returns a compiled model\n",
    "# identical to the previous one\n",
    "model = load_model('my_model')"
   ]
  },
  {
   "cell_type": "code",
   "execution_count": 56,
   "metadata": {},
   "outputs": [],
   "source": [
    "model.save_weights('my_model_weights.h5')"
   ]
  },
  {
   "cell_type": "code",
   "execution_count": 57,
   "metadata": {},
   "outputs": [],
   "source": [
    "model.load_weights(\"my_model_weights.h5\")"
   ]
  },
  {
   "cell_type": "code",
   "execution_count": 58,
   "metadata": {},
   "outputs": [],
   "source": [
    "json_string=model.to_json()"
   ]
  },
  {
   "cell_type": "code",
   "execution_count": 59,
   "metadata": {},
   "outputs": [],
   "source": [
    "import pprint"
   ]
  },
  {
   "cell_type": "code",
   "execution_count": 60,
   "metadata": {},
   "outputs": [
    {
     "name": "stdout",
     "output_type": "stream",
     "text": [
      "('{\"class_name\": \"Sequential\", \"config\": {\"name\": \"sequential\", \"layers\": '\n",
      " '[{\"class_name\": \"InputLayer\", \"config\": {\"batch_input_shape\": [null, 14], '\n",
      " '\"dtype\": \"float32\", \"sparse\": false, \"ragged\": false, \"name\": '\n",
      " '\"dense_input\"}}, {\"class_name\": \"Dense\", \"config\": {\"name\": \"dense\", '\n",
      " '\"trainable\": true, \"batch_input_shape\": [null, 14], \"dtype\": \"float32\", '\n",
      " '\"units\": 64, \"activation\": \"relu\", \"use_bias\": true, \"kernel_initializer\": '\n",
      " '{\"class_name\": \"GlorotUniform\", \"config\": {\"seed\": null}}, '\n",
      " '\"bias_initializer\": {\"class_name\": \"Zeros\", \"config\": {}}, '\n",
      " '\"kernel_regularizer\": null, \"bias_regularizer\": null, '\n",
      " '\"activity_regularizer\": null, \"kernel_constraint\": null, \"bias_constraint\": '\n",
      " 'null}}, {\"class_name\": \"Dense\", \"config\": {\"name\": \"dense_1\", \"trainable\": '\n",
      " 'true, \"dtype\": \"float32\", \"units\": 64, \"activation\": \"relu\", \"use_bias\": '\n",
      " 'true, \"kernel_initializer\": {\"class_name\": \"GlorotUniform\", \"config\": '\n",
      " '{\"seed\": null}}, \"bias_initializer\": {\"class_name\": \"Zeros\", \"config\": {}}, '\n",
      " '\"kernel_regularizer\": null, \"bias_regularizer\": null, '\n",
      " '\"activity_regularizer\": null, \"kernel_constraint\": null, \"bias_constraint\": '\n",
      " 'null}}, {\"class_name\": \"Dense\", \"config\": {\"name\": \"dense_2\", \"trainable\": '\n",
      " 'true, \"dtype\": \"float32\", \"units\": 10, \"activation\": \"relu\", \"use_bias\": '\n",
      " 'true, \"kernel_initializer\": {\"class_name\": \"GlorotUniform\", \"config\": '\n",
      " '{\"seed\": null}}, \"bias_initializer\": {\"class_name\": \"Zeros\", \"config\": {}}, '\n",
      " '\"kernel_regularizer\": null, \"bias_regularizer\": null, '\n",
      " '\"activity_regularizer\": null, \"kernel_constraint\": null, \"bias_constraint\": '\n",
      " 'null}}]}, \"keras_version\": \"2.4.0\", \"backend\": \"tensorflow\"}')\n"
     ]
    }
   ],
   "source": [
    "pprint.pprint(json_string)"
   ]
  },
  {
   "cell_type": "code",
   "execution_count": null,
   "metadata": {},
   "outputs": [],
   "source": []
  },
  {
   "cell_type": "code",
   "execution_count": 61,
   "metadata": {},
   "outputs": [],
   "source": [
    "import yaml"
   ]
  },
  {
   "cell_type": "code",
   "execution_count": 62,
   "metadata": {},
   "outputs": [],
   "source": [
    "yaml_string=model.to_yaml()"
   ]
  },
  {
   "cell_type": "code",
   "execution_count": 63,
   "metadata": {},
   "outputs": [
    {
     "name": "stdout",
     "output_type": "stream",
     "text": [
      "('backend: tensorflow\\n'\n",
      " 'class_name: Sequential\\n'\n",
      " 'config:\\n'\n",
      " '  layers:\\n'\n",
      " '  - class_name: InputLayer\\n'\n",
      " '    config:\\n'\n",
      " '      batch_input_shape: !!python/tuple\\n'\n",
      " '      - null\\n'\n",
      " '      - 14\\n'\n",
      " '      dtype: float32\\n'\n",
      " '      name: dense_input\\n'\n",
      " '      ragged: false\\n'\n",
      " '      sparse: false\\n'\n",
      " '  - class_name: Dense\\n'\n",
      " '    config:\\n'\n",
      " '      activation: relu\\n'\n",
      " '      activity_regularizer: null\\n'\n",
      " '      batch_input_shape: !!python/tuple\\n'\n",
      " '      - null\\n'\n",
      " '      - 14\\n'\n",
      " '      bias_constraint: null\\n'\n",
      " '      bias_initializer:\\n'\n",
      " '        class_name: Zeros\\n'\n",
      " '        config: {}\\n'\n",
      " '      bias_regularizer: null\\n'\n",
      " '      dtype: float32\\n'\n",
      " '      kernel_constraint: null\\n'\n",
      " '      kernel_initializer:\\n'\n",
      " '        class_name: GlorotUniform\\n'\n",
      " '        config:\\n'\n",
      " '          seed: null\\n'\n",
      " '      kernel_regularizer: null\\n'\n",
      " '      name: dense\\n'\n",
      " '      trainable: true\\n'\n",
      " '      units: 64\\n'\n",
      " '      use_bias: true\\n'\n",
      " '  - class_name: Dense\\n'\n",
      " '    config:\\n'\n",
      " '      activation: relu\\n'\n",
      " '      activity_regularizer: null\\n'\n",
      " '      bias_constraint: null\\n'\n",
      " '      bias_initializer:\\n'\n",
      " '        class_name: Zeros\\n'\n",
      " '        config: {}\\n'\n",
      " '      bias_regularizer: null\\n'\n",
      " '      dtype: float32\\n'\n",
      " '      kernel_constraint: null\\n'\n",
      " '      kernel_initializer:\\n'\n",
      " '        class_name: GlorotUniform\\n'\n",
      " '        config:\\n'\n",
      " '          seed: null\\n'\n",
      " '      kernel_regularizer: null\\n'\n",
      " '      name: dense_1\\n'\n",
      " '      trainable: true\\n'\n",
      " '      units: 64\\n'\n",
      " '      use_bias: true\\n'\n",
      " '  - class_name: Dense\\n'\n",
      " '    config:\\n'\n",
      " '      activation: relu\\n'\n",
      " '      activity_regularizer: null\\n'\n",
      " '      bias_constraint: null\\n'\n",
      " '      bias_initializer:\\n'\n",
      " '        class_name: Zeros\\n'\n",
      " '        config: {}\\n'\n",
      " '      bias_regularizer: null\\n'\n",
      " '      dtype: float32\\n'\n",
      " '      kernel_constraint: null\\n'\n",
      " '      kernel_initializer:\\n'\n",
      " '        class_name: GlorotUniform\\n'\n",
      " '        config:\\n'\n",
      " '          seed: null\\n'\n",
      " '      kernel_regularizer: null\\n'\n",
      " '      name: dense_2\\n'\n",
      " '      trainable: true\\n'\n",
      " '      units: 10\\n'\n",
      " '      use_bias: true\\n'\n",
      " '  name: sequential\\n'\n",
      " 'keras_version: 2.4.0\\n')\n"
     ]
    }
   ],
   "source": [
    "pprint.pprint(yaml_string)"
   ]
  },
  {
   "cell_type": "code",
   "execution_count": 64,
   "metadata": {},
   "outputs": [],
   "source": [
    "model.save(\"my_model_weights.h5\")"
   ]
  },
  {
   "cell_type": "code",
   "execution_count": 65,
   "metadata": {},
   "outputs": [],
   "source": [
    "model=keras.models.load_model(\"my_model_weights.h5\")"
   ]
  },
  {
   "cell_type": "code",
   "execution_count": 66,
   "metadata": {},
   "outputs": [
    {
     "name": "stdout",
     "output_type": "stream",
     "text": [
      "Model: \"sequential\"\n",
      "_________________________________________________________________\n",
      "Layer (type)                 Output Shape              Param #   \n",
      "=================================================================\n",
      "dense (Dense)                (None, 64)                960       \n",
      "_________________________________________________________________\n",
      "dense_1 (Dense)              (None, 64)                4160      \n",
      "_________________________________________________________________\n",
      "dense_2 (Dense)              (None, 10)                650       \n",
      "=================================================================\n",
      "Total params: 5,770\n",
      "Trainable params: 5,770\n",
      "Non-trainable params: 0\n",
      "_________________________________________________________________\n"
     ]
    }
   ],
   "source": [
    "model.summary()"
   ]
  },
  {
   "cell_type": "code",
   "execution_count": 67,
   "metadata": {},
   "outputs": [],
   "source": [
    "a=np.array([\n",
    "    [1,2],\n",
    "    [3,4]\n",
    "])"
   ]
  },
  {
   "cell_type": "code",
   "execution_count": 68,
   "metadata": {},
   "outputs": [
    {
     "data": {
      "text/plain": [
       "array([[1, 2],\n",
       "       [3, 4]])"
      ]
     },
     "execution_count": 68,
     "metadata": {},
     "output_type": "execute_result"
    }
   ],
   "source": [
    "a"
   ]
  },
  {
   "cell_type": "code",
   "execution_count": 69,
   "metadata": {},
   "outputs": [
    {
     "data": {
      "text/plain": [
       "(2, 2)"
      ]
     },
     "execution_count": 69,
     "metadata": {},
     "output_type": "execute_result"
    }
   ],
   "source": [
    "a.shape"
   ]
  },
  {
   "cell_type": "code",
   "execution_count": 70,
   "metadata": {},
   "outputs": [
    {
     "data": {
      "text/plain": [
       "array([1, 2])"
      ]
     },
     "execution_count": 70,
     "metadata": {},
     "output_type": "execute_result"
    }
   ],
   "source": [
    "a[0]"
   ]
  },
  {
   "cell_type": "code",
   "execution_count": 71,
   "metadata": {},
   "outputs": [
    {
     "data": {
      "text/plain": [
       "array([3, 4])"
      ]
     },
     "execution_count": 71,
     "metadata": {},
     "output_type": "execute_result"
    }
   ],
   "source": [
    "a[1]"
   ]
  },
  {
   "cell_type": "code",
   "execution_count": 72,
   "metadata": {},
   "outputs": [
    {
     "data": {
      "text/plain": [
       "array([1.5, 3.5])"
      ]
     },
     "execution_count": 72,
     "metadata": {},
     "output_type": "execute_result"
    }
   ],
   "source": [
    "np.mean(a,axis=-1)"
   ]
  },
  {
   "cell_type": "code",
   "execution_count": 73,
   "metadata": {},
   "outputs": [
    {
     "data": {
      "text/plain": [
       "'2.4.0'"
      ]
     },
     "execution_count": 73,
     "metadata": {},
     "output_type": "execute_result"
    }
   ],
   "source": [
    "keras.__version__"
   ]
  },
  {
   "cell_type": "code",
   "execution_count": null,
   "metadata": {},
   "outputs": [],
   "source": []
  }
 ],
 "metadata": {
  "kernelspec": {
   "display_name": "Python 3",
   "language": "python",
   "name": "python3"
  },
  "language_info": {
   "codemirror_mode": {
    "name": "ipython",
    "version": 3
   },
   "file_extension": ".py",
   "mimetype": "text/x-python",
   "name": "python",
   "nbconvert_exporter": "python",
   "pygments_lexer": "ipython3",
   "version": "3.8.8"
  }
 },
 "nbformat": 4,
 "nbformat_minor": 2
}
