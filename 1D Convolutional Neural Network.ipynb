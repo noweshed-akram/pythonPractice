{
 "cells": [
  {
   "cell_type": "code",
   "execution_count": 1,
   "metadata": {},
   "outputs": [],
   "source": [
    "import scipy.signal"
   ]
  },
  {
   "cell_type": "code",
   "execution_count": 2,
   "metadata": {},
   "outputs": [],
   "source": [
    "import numpy as np"
   ]
  },
  {
   "cell_type": "code",
   "execution_count": 3,
   "metadata": {},
   "outputs": [],
   "source": [
    "image_input=np.array([1,2,3,4]) #dim=1, shape=(4,)"
   ]
  },
  {
   "cell_type": "code",
   "execution_count": 4,
   "metadata": {},
   "outputs": [],
   "source": [
    "filter_h=np.array([4,4,3,2]) # dim=1, shape=(4,)"
   ]
  },
  {
   "cell_type": "raw",
   "metadata": {},
   "source": [
    "#### Generating image_output, y(n)=x(n)**h(n)\n",
    "Number of y(n) possible=L+M-1 where, L=Number of x(n) samples, M=Number of h(n) samples\n",
    "For, x(n)={1,2,3,4}\n",
    "     h(n)={4,4,3,2}\n",
    "#count, y(n)=4+4-1=7 samples"
   ]
  },
  {
   "cell_type": "code",
   "execution_count": 5,
   "metadata": {},
   "outputs": [],
   "source": [
    "image_output_scipy=scipy.signal.convolve(image_input,filter_h)"
   ]
  },
  {
   "cell_type": "code",
   "execution_count": 6,
   "metadata": {},
   "outputs": [
    {
     "name": "stdout",
     "output_type": "stream",
     "text": [
      "Total y(n) generated: 7\n",
      "y(n):[ 4 12 23 36 29 18  8]\n"
     ]
    }
   ],
   "source": [
    "print(\"Total y(n) generated: {}\\ny(n):{}\".format(image_output_scipy.shape[0],image_output_scipy))"
   ]
  },
  {
   "cell_type": "raw",
   "metadata": {},
   "source": [
    "## Generating y(n) using raw coding"
   ]
  },
  {
   "cell_type": "code",
   "execution_count": 7,
   "metadata": {},
   "outputs": [],
   "source": [
    "image_output=np.zeros([image_input.shape[0]])"
   ]
  },
  {
   "cell_type": "code",
   "execution_count": 8,
   "metadata": {},
   "outputs": [],
   "source": [
    "filter_h_mirror=np.rot90([filter_h])"
   ]
  },
  {
   "cell_type": "code",
   "execution_count": 9,
   "metadata": {},
   "outputs": [],
   "source": [
    "filter_h_mirror=filter_h_mirror.reshape([filter_h.shape[0],])#array([2, 3, 4, 4])"
   ]
  },
  {
   "cell_type": "code",
   "execution_count": 10,
   "metadata": {},
   "outputs": [
    {
     "data": {
      "text/plain": [
       "array([2, 3, 4, 4])"
      ]
     },
     "execution_count": 10,
     "metadata": {},
     "output_type": "execute_result"
    }
   ],
   "source": [
    "filter_h_mirror"
   ]
  },
  {
   "cell_type": "code",
   "execution_count": 11,
   "metadata": {},
   "outputs": [],
   "source": [
    "padded_zeros=(image_input.shape[0]-1)*2\n",
    "img_out_shape=padded_zeros+image_input.shape[0]\n",
    "image_padded=np.zeros([img_out_shape,])"
   ]
  },
  {
   "cell_type": "code",
   "execution_count": 12,
   "metadata": {},
   "outputs": [],
   "source": [
    "for i in range(image_input.shape[0]):\n",
    "    image_padded[i+3]=image_input[i]"
   ]
  },
  {
   "cell_type": "code",
   "execution_count": 13,
   "metadata": {},
   "outputs": [
    {
     "data": {
      "text/plain": [
       "array([0., 0., 0., 1., 2., 3., 4., 0., 0., 0.])"
      ]
     },
     "execution_count": 13,
     "metadata": {},
     "output_type": "execute_result"
    }
   ],
   "source": [
    "image_padded"
   ]
  },
  {
   "cell_type": "code",
   "execution_count": 14,
   "metadata": {},
   "outputs": [],
   "source": [
    "image_output=np.zeros([image_input.shape[0]+filter_h.shape[0]-1,])"
   ]
  },
  {
   "cell_type": "code",
   "execution_count": 15,
   "metadata": {},
   "outputs": [
    {
     "data": {
      "text/plain": [
       "array([0., 0., 0., 0., 0., 0., 0.])"
      ]
     },
     "execution_count": 15,
     "metadata": {},
     "output_type": "execute_result"
    }
   ],
   "source": [
    "image_output"
   ]
  },
  {
   "cell_type": "code",
   "execution_count": 16,
   "metadata": {},
   "outputs": [
    {
     "name": "stdout",
     "output_type": "stream",
     "text": [
      "Initial Image_output:[0. 0. 0. 0. 0. 0. 0.]\n",
      "i:0\n",
      "-------\n",
      "\tChunk_0:[0. 0. 0. 0.] \n",
      "\t\t j:0\n",
      "\t\t j:1\n",
      "\t\t j:2\n",
      "\t\t j:3\n",
      "\t\t Chunk:[0. 0. 0. 1.]\n",
      "Updated Image:[4. 0. 0. 0. 0. 0. 0.]\n",
      "i:1\n",
      "-------\n",
      "\tChunk_1:[0. 0. 0. 0.] \n",
      "\t\t j:1\n",
      "\t\t j:2\n",
      "\t\t j:3\n",
      "\t\t j:4\n",
      "\t\t Chunk:[0. 0. 1. 2.]\n",
      "Updated Image:[ 4. 12.  0.  0.  0.  0.  0.]\n",
      "i:2\n",
      "-------\n",
      "\tChunk_2:[0. 0. 0. 0.] \n",
      "\t\t j:2\n",
      "\t\t j:3\n",
      "\t\t j:4\n",
      "\t\t j:5\n",
      "\t\t Chunk:[0. 1. 2. 3.]\n",
      "Updated Image:[ 4. 12. 23.  0.  0.  0.  0.]\n",
      "i:3\n",
      "-------\n",
      "\tChunk_3:[0. 0. 0. 0.] \n",
      "\t\t j:3\n",
      "\t\t j:4\n",
      "\t\t j:5\n",
      "\t\t j:6\n",
      "\t\t Chunk:[1. 2. 3. 4.]\n",
      "Updated Image:[ 4. 12. 23. 36.  0.  0.  0.]\n",
      "i:4\n",
      "-------\n",
      "\tChunk_4:[0. 0. 0. 0.] \n",
      "\t\t j:4\n",
      "\t\t j:5\n",
      "\t\t j:6\n",
      "\t\t j:7\n",
      "\t\t Chunk:[2. 3. 4. 0.]\n",
      "Updated Image:[ 4. 12. 23. 36. 29.  0.  0.]\n",
      "i:5\n",
      "-------\n",
      "\tChunk_5:[0. 0. 0. 0.] \n",
      "\t\t j:5\n",
      "\t\t j:6\n",
      "\t\t j:7\n",
      "\t\t j:8\n",
      "\t\t Chunk:[3. 4. 0. 0.]\n",
      "Updated Image:[ 4. 12. 23. 36. 29. 18.  0.]\n",
      "i:6\n",
      "-------\n",
      "\tChunk_6:[0. 0. 0. 0.] \n",
      "\t\t j:6\n",
      "\t\t j:7\n",
      "\t\t j:8\n",
      "\t\t j:9\n",
      "\t\t Chunk:[4. 0. 0. 0.]\n",
      "Updated Image:[ 4. 12. 23. 36. 29. 18.  8.]\n",
      "[ 4. 12. 23. 36. 29. 18.  8.]\n"
     ]
    }
   ],
   "source": [
    "chunk_counter=0\n",
    "print(\"Initial Image_output:{}\".format(image_output))\n",
    "for i in range(image_input.shape[0]+filter_h_mirror.shape[0]-1):\n",
    "    print(\"i:{}\\n-------\".format(i))\n",
    "    \n",
    "    arr_chunk=np.zeros([filter_h.shape[0],])\n",
    "    print(\"\\tChunk_{}:{} \".format(chunk_counter,arr_chunk))\n",
    "    chunk_counter+=1\n",
    "    for j in range(i,i+filter_h.shape[0]):\n",
    "        print(\"\\t\\t j:{}\".format(j))\n",
    "        arr_chunk[j-i]=image_padded[j]\n",
    "    print(\"\\t\\t Chunk:{}\".format(arr_chunk))\n",
    "    image_output[i]=np.sum(np.multiply(arr_chunk,filter_h_mirror))\n",
    "    print(\"Updated Image:{}\".format(image_output))\n",
    "print(image_output)"
   ]
  },
  {
   "cell_type": "code",
   "execution_count": null,
   "metadata": {},
   "outputs": [],
   "source": []
  },
  {
   "cell_type": "code",
   "execution_count": null,
   "metadata": {},
   "outputs": [],
   "source": []
  }
 ],
 "metadata": {
  "kernelspec": {
   "display_name": "Python 3",
   "language": "python",
   "name": "python3"
  },
  "language_info": {
   "codemirror_mode": {
    "name": "ipython",
    "version": 3
   },
   "file_extension": ".py",
   "mimetype": "text/x-python",
   "name": "python",
   "nbconvert_exporter": "python",
   "pygments_lexer": "ipython3",
   "version": "3.8.8"
  }
 },
 "nbformat": 4,
 "nbformat_minor": 2
}
