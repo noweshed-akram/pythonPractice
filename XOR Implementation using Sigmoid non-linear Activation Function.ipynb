{
 "cells": [
  {
   "cell_type": "code",
   "execution_count": 1,
   "metadata": {},
   "outputs": [],
   "source": [
    "import tensorflow as tf"
   ]
  },
  {
   "cell_type": "code",
   "execution_count": 2,
   "metadata": {},
   "outputs": [],
   "source": [
    "x_=tf.placeholder(tf.float32,shape=(4,2),name=\"x_input\")"
   ]
  },
  {
   "cell_type": "code",
   "execution_count": 3,
   "metadata": {},
   "outputs": [],
   "source": [
    "x_inputs=[\n",
    "    [0,0],\n",
    "    [0,1],\n",
    "    [1,0],\n",
    "    [1,1]\n",
    "]"
   ]
  },
  {
   "cell_type": "code",
   "execution_count": 4,
   "metadata": {},
   "outputs": [],
   "source": [
    "y_inputs=[\n",
    "    [0],\n",
    "    [1],\n",
    "    [1],\n",
    "    [0]\n",
    "]"
   ]
  },
  {
   "cell_type": "code",
   "execution_count": 5,
   "metadata": {},
   "outputs": [],
   "source": [
    "y_=tf.placeholder(tf.float32,shape=(4,1),name=\"y_input\")"
   ]
  },
  {
   "cell_type": "code",
   "execution_count": 6,
   "metadata": {},
   "outputs": [],
   "source": [
    "b1=tf.Variable(tf.zeros([2]),name=\"Bias_1\")"
   ]
  },
  {
   "cell_type": "code",
   "execution_count": 7,
   "metadata": {},
   "outputs": [],
   "source": [
    "b2=tf.Variable(tf.zeros([1]),name=\"Bias_2\")"
   ]
  },
  {
   "cell_type": "code",
   "execution_count": 8,
   "metadata": {},
   "outputs": [],
   "source": [
    "w1=tf.Variable(tf.random_uniform([2,2],-1,1),name=\"Weights_1\")\n"
   ]
  },
  {
   "cell_type": "code",
   "execution_count": 9,
   "metadata": {},
   "outputs": [],
   "source": [
    "w2=tf.Variable(tf.random_uniform([2,1],-1,1),name=\"Weights_2\")"
   ]
  },
  {
   "cell_type": "markdown",
   "metadata": {},
   "source": [
    "### Printing the initial setup values"
   ]
  },
  {
   "cell_type": "code",
   "execution_count": 10,
   "metadata": {},
   "outputs": [
    {
     "name": "stdout",
     "output_type": "stream",
     "text": [
      "Printing x_inputs\n",
      "----------------------\n",
      " [[0. 0.]\n",
      " [0. 1.]\n",
      " [1. 0.]\n",
      " [1. 1.]]\n",
      "\n",
      "\n",
      "Printing y_outputs (target output)\n",
      "---------------------------------\n",
      " [[0.]\n",
      " [1.]\n",
      " [1.]\n",
      " [0.]]\n",
      "\n",
      "\n",
      "Printing b1 Values:\n",
      "--------------------\n",
      " [0. 0.]\n",
      "\n",
      "\n",
      "Printing b2 Values:\n",
      "--------------------\n",
      " [0.]\n",
      "\n",
      "\n",
      "Printing w1 Values:\n",
      "--------------------\n",
      " [[-0.41208148  0.37853575]\n",
      " [ 0.8211913   0.25236917]]\n",
      "\n",
      "\n",
      "Printing w2 Values:\n",
      "--------------------\n",
      " [[ 0.8950572 ]\n",
      " [-0.66453004]]\n",
      "\n",
      "\n",
      "[[0. 0.]\n",
      " [0. 1.]\n",
      " [1. 0.]\n",
      " [1. 1.]]\n"
     ]
    }
   ],
   "source": [
    "with tf.Session() as sess:\n",
    "    sess.run(tf.global_variables_initializer())\n",
    "    print(\"Printing x_inputs\\n----------------------\\n {}\\n\\n\".format(sess.run(x_,feed_dict={x_:x_inputs})))\n",
    "    print(\"Printing y_outputs (target output)\\n---------------------------------\\n {}\\n\\n\".format(sess.run(y_,feed_dict={y_:y_inputs})))\n",
    "    print(\"Printing b1 Values:\\n--------------------\\n {}\\n\\n\".format(b1.eval()))\n",
    "    print(\"Printing b2 Values:\\n--------------------\\n {}\\n\\n\".format(b2.eval()))\n",
    "    print(\"Printing w1 Values:\\n--------------------\\n {}\\n\\n\".format(w1.eval()))\n",
    "    print(\"Printing w2 Values:\\n--------------------\\n {}\\n\\n\".format(w2.eval()))\n",
    "    x1=x_inputs+b1\n",
    "    print(x1.eval())"
   ]
  },
  {
   "cell_type": "markdown",
   "metadata": {},
   "source": [
    "### Generating the predicted output"
   ]
  },
  {
   "cell_type": "code",
   "execution_count": 25,
   "metadata": {},
   "outputs": [],
   "source": [
    "h34=(tf.matmul(x_,w1)+b1)"
   ]
  },
  {
   "cell_type": "code",
   "execution_count": 26,
   "metadata": {},
   "outputs": [],
   "source": [
    "y_pred=tf.sigmoid(tf.matmul(h34,w2)+b2)"
   ]
  },
  {
   "cell_type": "code",
   "execution_count": 27,
   "metadata": {},
   "outputs": [
    {
     "name": "stdout",
     "output_type": "stream",
     "text": [
      "Printing hidden layer values (H34):\n",
      "............................\n",
      " [[ 0.          0.        ]\n",
      " [-0.1858859   0.8132968 ]\n",
      " [ 0.78686833  0.84787583]\n",
      " [ 0.6009824   1.6611726 ]]\n",
      "\n",
      "\n",
      "Printing Y_Predicted:\n",
      "-----------------------------\n",
      " [[0.5       ]\n",
      " [0.71517885]\n",
      " [0.5677157 ]\n",
      " [0.76731443]]\n",
      "\n",
      "\n"
     ]
    }
   ],
   "source": [
    "with tf.Session() as sess:\n",
    "    sess.run(tf.global_variables_initializer())\n",
    "    print(\"Printing hidden layer values (H34):\\n............................\\n {}\\n\\n\".format(sess.run(h34,feed_dict={x_:x_inputs})))\n",
    "    print(\"Printing Y_Predicted:\\n-----------------------------\\n {}\\n\\n\".format(sess.run(y_pred,feed_dict={x_:x_inputs})))\n",
    "    "
   ]
  },
  {
   "cell_type": "markdown",
   "metadata": {},
   "source": [
    "### Define the Log loss or cross-entropy for updating the cost function "
   ]
  },
  {
   "cell_type": "code",
   "execution_count": 28,
   "metadata": {},
   "outputs": [],
   "source": [
    "cost=tf.reduce_mean((y_*tf.log(y_pred)+(1-y_)*tf.log(1.0-y_pred))*-1)\n",
    "learning_rate=0.01\n",
    "training_step=tf.train.GradientDescentOptimizer(learning_rate).minimize(cost)\n",
    "cost_cache=[]"
   ]
  },
  {
   "cell_type": "code",
   "execution_count": 29,
   "metadata": {},
   "outputs": [
    {
     "name": "stdout",
     "output_type": "stream",
     "text": [
      "WARNING:tensorflow:Passing a `GraphDef` to the SummaryWriter is deprecated. Pass a `Graph` object instead, such as `sess.graph`.\n",
      "Printing hidden layer values (H34):\n",
      "............................\n",
      " [[ 0.          0.        ]\n",
      " [-0.6213851   0.9008627 ]\n",
      " [ 0.01797199 -0.2733066 ]\n",
      " [-0.6034131   0.6275561 ]]\n",
      "\n",
      "\n",
      "Printing Y_Predicted (Before Training):\n",
      "-----------------------------\n",
      " [[0.5       ]\n",
      " [0.39187926]\n",
      " [0.53708917]\n",
      " [0.42781043]]\n",
      "\n",
      "\n",
      "Cost Function (Initial):\n",
      "--------------------\n",
      "0.7024561762809753 \n",
      "\n",
      "\n",
      "Training (Updating the cost function- minimizing):\n",
      "----------------------------------\n",
      "\n",
      "\n",
      "\n",
      "\n",
      "Final Y_prediction (After Training)\n",
      "------------------------\n",
      " [[0.4999919 ]\n",
      " [0.49999774]\n",
      " [0.5000023 ]\n",
      " [0.50000805]] \n",
      "\n",
      "\n"
     ]
    }
   ],
   "source": [
    "with tf.Session() as sess:\n",
    "    writer=tf.summary.FileWriter(\"./Downloads/XOR_logs_final\",sess.graph_def)\n",
    "    sess.run(tf.global_variables_initializer())\n",
    "    print(\"Printing hidden layer values (H34):\\n............................\\n {}\\n\\n\".format(sess.run(h34,feed_dict={x_:x_inputs})))\n",
    "    print(\"Printing Y_Predicted (Before Training):\\n-----------------------------\\n {}\\n\\n\".format(sess.run(y_pred,feed_dict={x_:x_inputs})))\n",
    "    print(\"Cost Function (Initial):\\n--------------------\\n{} \\n\\n\".format(sess.run(cost,feed_dict={x_:x_inputs,y_:y_inputs})))\n",
    "    \n",
    "    #checking the cost function after each training step\n",
    "    print(\"Training (Updating the cost function- minimizing):\\n----------------------------------\\n\")\n",
    "    for step in range(100000):\n",
    "        #print(step,end=\" \")\n",
    "        _,loss_val,pred_y,weight_1,weight_2,bias_1,bias_2=\\\n",
    "            sess.run([training_step,cost,y_pred,w1,w2,b1,b2],feed_dict={x_:x_inputs,y_:y_inputs})\n",
    "        cost_cache.append(loss_val)\n",
    "        #print(\"Cost/Y_pred/Weight1/Weight2/Bias1/Bias2 (Updated @ step {}):\\n{}:\\n\\n{}:\\n\\n{}:\\n\\n{}:\\n\\n{}:\\n\\n{}\".\\\n",
    "              #format(step,loss_val,pred_y,weight_1,weight_2,bias_1,bias_2))\n",
    "    print(\"\\n\\n\")\n",
    "    print(\"Final Y_prediction (After Training)\\n------------------------\\n {} \\n\\n\".format(sess.run(y_pred,feed_dict={x_:x_inputs,y_:y_inputs})))\n",
    "    "
   ]
  },
  {
   "cell_type": "code",
   "execution_count": 31,
   "metadata": {},
   "outputs": [
    {
     "data": {
      "text/plain": [
       "69.31471824645996"
      ]
     },
     "execution_count": 31,
     "metadata": {},
     "output_type": "execute_result"
    }
   ],
   "source": [
    "cost_cache[-1]*100"
   ]
  },
  {
   "cell_type": "code",
   "execution_count": null,
   "metadata": {},
   "outputs": [],
   "source": []
  },
  {
   "cell_type": "code",
   "execution_count": null,
   "metadata": {},
   "outputs": [],
   "source": []
  },
  {
   "cell_type": "code",
   "execution_count": 23,
   "metadata": {},
   "outputs": [],
   "source": [
    "import matplotlib.pyplot as plt"
   ]
  },
  {
   "cell_type": "code",
   "execution_count": 30,
   "metadata": {},
   "outputs": [
    {
     "data": {
      "text/plain": [
       "[<matplotlib.lines.Line2D at 0x7710b99630>]"
      ]
     },
     "execution_count": 30,
     "metadata": {},
     "output_type": "execute_result"
    },
    {
     "data": {
      "image/png": "[encoded data removed]",
      "text/plain": [
       "<Figure size 432x288 with 1 Axes>"
      ]
     },
     "metadata": {
      "needs_background": "light"
     },
     "output_type": "display_data"
    }
   ],
   "source": [
    "plt.plot(cost_cache)"
   ]
  },
  {
   "cell_type": "code",
   "execution_count": null,
   "metadata": {},
   "outputs": [],
   "source": []
  },
  {
   "cell_type": "code",
   "execution_count": 16,
   "metadata": {},
   "outputs": [],
   "source": [
    "import tensorboard\n"
   ]
  },
  {
   "cell_type": "code",
   "execution_count": 17,
   "metadata": {},
   "outputs": [],
   "source": [
    "#%%cmd\n",
    "#tensorboard --logdir=./Downloads/XOR_logs_final --host=127.0.0.1"
   ]
  },
  {
   "cell_type": "code",
   "execution_count": null,
   "metadata": {},
   "outputs": [],
   "source": [
    "\n"
   ]
  },
  {
   "cell_type": "code",
   "execution_count": null,
   "metadata": {},
   "outputs": [],
   "source": []
  },
  {
   "cell_type": "code",
   "execution_count": null,
   "metadata": {},
   "outputs": [],
   "source": []
  }
 ],
 "metadata": {
  "kernelspec": {
   "display_name": "Python 3",
   "language": "python",
   "name": "python3"
  },
  "language_info": {
   "codemirror_mode": {
    "name": "ipython",
    "version": 3
   },
   "file_extension": ".py",
   "mimetype": "text/x-python",
   "name": "python",
   "nbconvert_exporter": "python",
   "pygments_lexer": "ipython3",
   "version": "3.8.8"
  }
 },
 "nbformat": 4,
 "nbformat_minor": 2
}
