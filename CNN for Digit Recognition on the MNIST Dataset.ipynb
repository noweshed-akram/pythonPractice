{
 "cells": [
  {
   "cell_type": "code",
   "execution_count": 1,
   "metadata": {},
   "outputs": [
    {
     "name": "stdout",
     "output_type": "stream",
     "text": [
      "WARNING:tensorflow:From C:\\Users\\nowes\\anaconda3\\lib\\site-packages\\tensorflow\\python\\compat\\v2_compat.py:96: disable_resource_variables (from tensorflow.python.ops.variable_scope) is deprecated and will be removed in a future version.\n",
      "Instructions for updating:\n",
      "non-resource variables are not supported in the long term\n"
     ]
    }
   ],
   "source": [
    "# import tensorflow as tf\n",
    "import tensorflow.compat.v1 as tf\n",
    "tf.disable_v2_behavior()"
   ]
  },
  {
   "cell_type": "code",
   "execution_count": 2,
   "metadata": {},
   "outputs": [],
   "source": [
    "import numpy as np"
   ]
  },
  {
   "cell_type": "code",
   "execution_count": 3,
   "metadata": {},
   "outputs": [],
   "source": [
    "# from tf.keras.datasets.mnist import input_data\n",
    "\n",
    "import sys  \n",
    "sys.path.insert(0, \"D:\\Python\\Pattern\\mnist\")\n",
    "\n",
    "import input_data\n",
    "# import mnist"
   ]
  },
  {
   "cell_type": "code",
   "execution_count": 4,
   "metadata": {},
   "outputs": [],
   "source": [
    "import os"
   ]
  },
  {
   "cell_type": "code",
   "execution_count": 5,
   "metadata": {},
   "outputs": [],
   "source": [
    "#we are using Gradient Descent Full Batch, means all the sample training data will be used for training at each iteration of learning\n",
    "def download_MNIST_dataset_and_return_train_and_test_data():\n",
    "    print(\"Into Function: {}\\n------------------------------------------------------------------\\n\".\n",
    "          format(download_MNIST_dataset_and_return_train_and_test_data.__name__))\n",
    "    if not os.path.exists(\"MNIST_data\"):\n",
    "        print(\"Downloading MNIST Data Set\")\n",
    "        mnist=input_data.read_data_sets(\"MNIST_data/\",one_hot=True)\n",
    "    else:\n",
    "        print(\"MNIST Data Set is already exists.\\n\")\n",
    "        response=input(\"Do you want to download again (Y/N):\")\n",
    "        if response.startswith(\"Y\"):\n",
    "            print(\"Redownloading the MNIST Data Set, Old data set might be broken.......\")\n",
    "            mnist=input_data.read_data_sets(\"MNIST_data/\",one_hot=True)\n",
    "        else:\n",
    "            print(\"I am confident that the MNIST dataset is at solid state\")\n",
    "    \n",
    "    #taining data shape=(55000,784) meaning 55000 sample images, eaching having 28*28 pixels and \n",
    "    #training label shape=(55000,10) means, its a multiclass problem, each character will be classified either 0 or 1 or 2\n",
    "    # or 3 or 4 or 5 or 6 or 7 or 8 or 9, means total 10 classes, but not two classes at the same time\n",
    "    \n",
    "    #testing sample shape=(10000, 784), means system has to test and classify 10000 samples\n",
    "    train_X,train_Y,test_X,test_Y=mnist.train.images,mnist.train.labels,mnist.test.images,mnist.test.labels\n",
    "    #remember all the images are in 28*28 pixe, thats why each pixel is acting as features, having 28*28=784 pixes or features\n",
    "    print(\"Returning training data+ labels and testing data + labels\")\n",
    "    return train_X,train_Y,test_X,test_Y\n",
    "    "
   ]
  },
  {
   "cell_type": "code",
   "execution_count": 6,
   "metadata": {},
   "outputs": [],
   "source": [
    "# remember, all the input datas are in (?,784) format and output is of 10 classes in the format (?,10)\n",
    "def set_placeholder_weights_biases(input_dimension,output_dimension):\n",
    "    print(\"Into function: {}\\n--------------------\\n\".format(set_placeholder_weights_biases.__name__))\n",
    "    #Set the placeholder for training inputs and training labels\n",
    "    X=tf.placeholder(tf.float32,[None,input_dimension],name=\"x_inputs\") # (?, 784)\n",
    "    Y=tf.placeholder(tf.float32,[None,output_dimension],name=\"y_outputs\") #(?, 10)\n",
    "    \n",
    "    #randomely set the weights in the dimension of (784,10) # remember we have to do a matrix multiplication (x.w)+b\n",
    "    #(?,784) X (784,10)= (?,10)\n",
    "    w=tf.Variable(tf.random_normal([input_dimension,output_dimension],stddev=0.01),name=\"Weights\")\n",
    "    b=tf.Variable(tf.random_normal([output_dimension]),name=\"Biases\")\n",
    "    \n",
    "    return X,Y,w,b"
   ]
  },
  {
   "cell_type": "code",
   "execution_count": 7,
   "metadata": {},
   "outputs": [],
   "source": [
    "#X=training data in shape (?,784) #2D tensor\n",
    "#W= random weight or coefficient in the shape (784,10) #2D tensor\n",
    "#b= bias value in the shape (10) #1D tensor\n",
    "def forward_pass(X,w,b):\n",
    "    print(\"Doing X*w+b using function: {}\".format(forward_pass.__name__))\n",
    "    return tf.matmul(X,w)+b"
   ]
  },
  {
   "cell_type": "code",
   "execution_count": 8,
   "metadata": {},
   "outputs": [],
   "source": [
    "#Defining the multi-class cost or loss function\n",
    "#Remember in the single class problem earlier, we have used the cross entroy of Mean Square Error as the loss function\n",
    "def multiclass_cost(y_pred,Y):\n",
    "    print(\"Calculating the prediction error using function: {}\".format(multiclass_cost.__name__))\n",
    "    error=tf.reduce_mean(tf.nn.softmax_cross_entropy_with_logits(logits=y_pred,labels=Y))\n",
    "    return error"
   ]
  },
  {
   "cell_type": "code",
   "execution_count": 9,
   "metadata": {},
   "outputs": [],
   "source": [
    "def init():\n",
    "    print(\"Initializing all variable using: {}\".format(init.__name__))\n",
    "    return tf.global_variables_initializer()"
   ]
  },
  {
   "cell_type": "code",
   "execution_count": 10,
   "metadata": {},
   "outputs": [],
   "source": [
    "#the training operation will try to reduce the error or loss using a specified learning rate\n",
    "#Selection of learning rate depends when how many steps you wants your system to converg.\n",
    "#Converge means, from that point onward there will have no significant reduction in error, thus accuracy will not improve\n",
    "#You may use the early stoping, to avoid overfitting of your data\n",
    "\n",
    "#Remember we are using Gradient Descent Full Batch..\n",
    "def training_operation(learning_rate,error,sample_size):\n",
    "    print(\"into :{}: Training with {} Samples\".format(training_operation.__name__,sample_size))\n",
    "    train_op=tf.train.GradientDescentOptimizer(learning_rate).minimize(error)\n",
    "    return train_op"
   ]
  },
  {
   "cell_type": "code",
   "execution_count": 11,
   "metadata": {},
   "outputs": [],
   "source": [
    "def data_normalization_z(data):\n",
    "    mu=np.mean(data,axis=0)\n",
    "    std=np.std(data,axis=0)\n",
    "    return (data-mu)/std"
   ]
  },
  {
   "cell_type": "raw",
   "metadata": {},
   "source": [
    "### Calling the Functions\n",
    "Stage 01-Setup\n",
    "-------------------------------------------------------------------------------\n",
    "#### Step-1: get the training and testing data sets from the mnist dataset.\n",
    "#### Step-2: Define the placeholders for training input data (sample and features) and training output labels and randomly choose the weights or co-efficients and biases\n",
    "#### Step-3: implement the equation X.W+b using forward pass\n",
    "\n",
    "Stage-2: Setup the hyper parameters (learning_rate, epoches)\n",
    "-------------------------------------------------\n",
    "\n",
    "Stage-3:\n",
    "---------------------------------------------------\n",
    "#### Step-4: Calculate the initial cost or loss or error exits in prediction vs. actual output label\n",
    "\n",
    "Stage 4-Initializing all variables\n",
    "------------------------------------\n",
    "#### Step -5: Calling the init() function for the varibles (w,b) initializing\n",
    "\n",
    "Stage 5- Start the training Session\n",
    "---------------------------------------\n"
   ]
  },
  {
   "cell_type": "code",
   "execution_count": 17,
   "metadata": {},
   "outputs": [],
   "source": [
    "import tensorflow_datasets as tfds"
   ]
  },
  {
   "cell_type": "code",
   "execution_count": 19,
   "metadata": {},
   "outputs": [
    {
     "name": "stdout",
     "output_type": "stream",
     "text": [
      "\u001b[1mDownloading and preparing dataset mnist (11.06 MiB) to C:\\Users\\nowes\\tensorflow_datasets\\mnist\\1.0.0...\u001b[0m\n"
     ]
    },
    {
     "data": {
      "application/vnd.jupyter.widget-view+json": {
       "model_id": "f290a1c298d6420fb27abdc3bb9e5b58",
       "version_major": 2,
       "version_minor": 0
      },
      "text/plain": [
       "Dl Completed...: 0 url [00:00, ? url/s]"
      ]
     },
     "metadata": {},
     "output_type": "display_data"
    },
    {
     "data": {
      "application/vnd.jupyter.widget-view+json": {
       "model_id": "86c750ff3c754b8286834235526713ea",
       "version_major": 2,
       "version_minor": 0
      },
      "text/plain": [
       "Dl Size...: 0 MiB [00:00, ? MiB/s]"
      ]
     },
     "metadata": {},
     "output_type": "display_data"
    },
    {
     "data": {
      "application/vnd.jupyter.widget-view+json": {
       "model_id": "d1c36263cfd04eb7b190bdc65a38e179",
       "version_major": 2,
       "version_minor": 0
      },
      "text/plain": [
       "Extraction completed...: 0 file [00:00, ? file/s]"
      ]
     },
     "metadata": {},
     "output_type": "display_data"
    },
    {
     "name": "stderr",
     "output_type": "stream",
     "text": [
      "C:\\Users\\nowes\\anaconda3\\lib\\site-packages\\urllib3\\connectionpool.py:1013: InsecureRequestWarning: Unverified HTTPS request is being made to host 'storage.googleapis.com'. Adding certificate verification is strongly advised. See: https://urllib3.readthedocs.io/en/latest/advanced-usage.html#ssl-warnings\n",
      "  warnings.warn(\n",
      "C:\\Users\\nowes\\anaconda3\\lib\\site-packages\\urllib3\\connectionpool.py:1013: InsecureRequestWarning: Unverified HTTPS request is being made to host 'storage.googleapis.com'. Adding certificate verification is strongly advised. See: https://urllib3.readthedocs.io/en/latest/advanced-usage.html#ssl-warnings\n",
      "  warnings.warn(\n",
      "C:\\Users\\nowes\\anaconda3\\lib\\site-packages\\urllib3\\connectionpool.py:1013: InsecureRequestWarning: Unverified HTTPS request is being made to host 'storage.googleapis.com'. Adding certificate verification is strongly advised. See: https://urllib3.readthedocs.io/en/latest/advanced-usage.html#ssl-warnings\n",
      "  warnings.warn(\n",
      "C:\\Users\\nowes\\anaconda3\\lib\\site-packages\\urllib3\\connectionpool.py:1013: InsecureRequestWarning: Unverified HTTPS request is being made to host 'storage.googleapis.com'. Adding certificate verification is strongly advised. See: https://urllib3.readthedocs.io/en/latest/advanced-usage.html#ssl-warnings\n",
      "  warnings.warn(\n"
     ]
    },
    {
     "name": "stdout",
     "output_type": "stream",
     "text": [
      "\n",
      "\n",
      "\n"
     ]
    },
    {
     "data": {
      "application/vnd.jupyter.widget-view+json": {
       "model_id": "",
       "version_major": 2,
       "version_minor": 0
      },
      "text/plain": [
       "0 examples [00:00, ? examples/s]"
      ]
     },
     "metadata": {},
     "output_type": "display_data"
    },
    {
     "data": {
      "application/vnd.jupyter.widget-view+json": {
       "model_id": "",
       "version_major": 2,
       "version_minor": 0
      },
      "text/plain": [
       "Shuffling...:   0%|          | 0/10 [00:00<?, ? shard/s]"
      ]
     },
     "metadata": {},
     "output_type": "display_data"
    },
    {
     "name": "stdout",
     "output_type": "stream",
     "text": [
      "WARNING:tensorflow:From C:\\Users\\nowes\\anaconda3\\lib\\site-packages\\tensorflow_datasets\\core\\file_format_adapter.py:209: tf_record_iterator (from tensorflow.python.lib.io.tf_record) is deprecated and will be removed in a future version.\n",
      "Instructions for updating:\n",
      "Use eager execution and: \n",
      "`tf.data.TFRecordDataset(path)`\n"
     ]
    },
    {
     "name": "stderr",
     "output_type": "stream",
     "text": [
      "WARNING:tensorflow:From C:\\Users\\nowes\\anaconda3\\lib\\site-packages\\tensorflow_datasets\\core\\file_format_adapter.py:209: tf_record_iterator (from tensorflow.python.lib.io.tf_record) is deprecated and will be removed in a future version.\n",
      "Instructions for updating:\n",
      "Use eager execution and: \n",
      "`tf.data.TFRecordDataset(path)`\n"
     ]
    },
    {
     "data": {
      "application/vnd.jupyter.widget-view+json": {
       "model_id": "",
       "version_major": 2,
       "version_minor": 0
      },
      "text/plain": [
       "Reading...: 0 examples [00:00, ? examples/s]"
      ]
     },
     "metadata": {},
     "output_type": "display_data"
    },
    {
     "data": {
      "application/vnd.jupyter.widget-view+json": {
       "model_id": "",
       "version_major": 2,
       "version_minor": 0
      },
      "text/plain": [
       "Writing...:   0%|          | 0/6000 [00:00<?, ? examples/s]"
      ]
     },
     "metadata": {},
     "output_type": "display_data"
    },
    {
     "data": {
      "application/vnd.jupyter.widget-view+json": {
       "model_id": "",
       "version_major": 2,
       "version_minor": 0
      },
      "text/plain": [
       "Reading...: 0 examples [00:00, ? examples/s]"
      ]
     },
     "metadata": {},
     "output_type": "display_data"
    },
    {
     "data": {
      "application/vnd.jupyter.widget-view+json": {
       "model_id": "",
       "version_major": 2,
       "version_minor": 0
      },
      "text/plain": [
       "Writing...:   0%|          | 0/6000 [00:00<?, ? examples/s]"
      ]
     },
     "metadata": {},
     "output_type": "display_data"
    },
    {
     "data": {
      "application/vnd.jupyter.widget-view+json": {
       "model_id": "",
       "version_major": 2,
       "version_minor": 0
      },
      "text/plain": [
       "Reading...: 0 examples [00:00, ? examples/s]"
      ]
     },
     "metadata": {},
     "output_type": "display_data"
    },
    {
     "data": {
      "application/vnd.jupyter.widget-view+json": {
       "model_id": "",
       "version_major": 2,
       "version_minor": 0
      },
      "text/plain": [
       "Writing...:   0%|          | 0/6000 [00:00<?, ? examples/s]"
      ]
     },
     "metadata": {},
     "output_type": "display_data"
    },
    {
     "data": {
      "application/vnd.jupyter.widget-view+json": {
       "model_id": "",
       "version_major": 2,
       "version_minor": 0
      },
      "text/plain": [
       "Reading...: 0 examples [00:00, ? examples/s]"
      ]
     },
     "metadata": {},
     "output_type": "display_data"
    },
    {
     "data": {
      "application/vnd.jupyter.widget-view+json": {
       "model_id": "",
       "version_major": 2,
       "version_minor": 0
      },
      "text/plain": [
       "Writing...:   0%|          | 0/6000 [00:00<?, ? examples/s]"
      ]
     },
     "metadata": {},
     "output_type": "display_data"
    },
    {
     "data": {
      "application/vnd.jupyter.widget-view+json": {
       "model_id": "",
       "version_major": 2,
       "version_minor": 0
      },
      "text/plain": [
       "Reading...: 0 examples [00:00, ? examples/s]"
      ]
     },
     "metadata": {},
     "output_type": "display_data"
    },
    {
     "data": {
      "application/vnd.jupyter.widget-view+json": {
       "model_id": "",
       "version_major": 2,
       "version_minor": 0
      },
      "text/plain": [
       "Writing...:   0%|          | 0/6000 [00:00<?, ? examples/s]"
      ]
     },
     "metadata": {},
     "output_type": "display_data"
    },
    {
     "data": {
      "application/vnd.jupyter.widget-view+json": {
       "model_id": "",
       "version_major": 2,
       "version_minor": 0
      },
      "text/plain": [
       "Reading...: 0 examples [00:00, ? examples/s]"
      ]
     },
     "metadata": {},
     "output_type": "display_data"
    },
    {
     "data": {
      "application/vnd.jupyter.widget-view+json": {
       "model_id": "",
       "version_major": 2,
       "version_minor": 0
      },
      "text/plain": [
       "Writing...:   0%|          | 0/6000 [00:00<?, ? examples/s]"
      ]
     },
     "metadata": {},
     "output_type": "display_data"
    },
    {
     "data": {
      "application/vnd.jupyter.widget-view+json": {
       "model_id": "",
       "version_major": 2,
       "version_minor": 0
      },
      "text/plain": [
       "Reading...: 0 examples [00:00, ? examples/s]"
      ]
     },
     "metadata": {},
     "output_type": "display_data"
    },
    {
     "data": {
      "application/vnd.jupyter.widget-view+json": {
       "model_id": "",
       "version_major": 2,
       "version_minor": 0
      },
      "text/plain": [
       "Writing...:   0%|          | 0/6000 [00:00<?, ? examples/s]"
      ]
     },
     "metadata": {},
     "output_type": "display_data"
    },
    {
     "data": {
      "application/vnd.jupyter.widget-view+json": {
       "model_id": "",
       "version_major": 2,
       "version_minor": 0
      },
      "text/plain": [
       "Reading...: 0 examples [00:00, ? examples/s]"
      ]
     },
     "metadata": {},
     "output_type": "display_data"
    },
    {
     "data": {
      "application/vnd.jupyter.widget-view+json": {
       "model_id": "",
       "version_major": 2,
       "version_minor": 0
      },
      "text/plain": [
       "Writing...:   0%|          | 0/6000 [00:00<?, ? examples/s]"
      ]
     },
     "metadata": {},
     "output_type": "display_data"
    },
    {
     "data": {
      "application/vnd.jupyter.widget-view+json": {
       "model_id": "",
       "version_major": 2,
       "version_minor": 0
      },
      "text/plain": [
       "Reading...: 0 examples [00:00, ? examples/s]"
      ]
     },
     "metadata": {},
     "output_type": "display_data"
    },
    {
     "data": {
      "application/vnd.jupyter.widget-view+json": {
       "model_id": "",
       "version_major": 2,
       "version_minor": 0
      },
      "text/plain": [
       "Writing...:   0%|          | 0/6000 [00:00<?, ? examples/s]"
      ]
     },
     "metadata": {},
     "output_type": "display_data"
    },
    {
     "data": {
      "application/vnd.jupyter.widget-view+json": {
       "model_id": "",
       "version_major": 2,
       "version_minor": 0
      },
      "text/plain": [
       "Reading...: 0 examples [00:00, ? examples/s]"
      ]
     },
     "metadata": {},
     "output_type": "display_data"
    },
    {
     "data": {
      "application/vnd.jupyter.widget-view+json": {
       "model_id": "",
       "version_major": 2,
       "version_minor": 0
      },
      "text/plain": [
       "Writing...:   0%|          | 0/6000 [00:00<?, ? examples/s]"
      ]
     },
     "metadata": {},
     "output_type": "display_data"
    },
    {
     "data": {
      "application/vnd.jupyter.widget-view+json": {
       "model_id": "",
       "version_major": 2,
       "version_minor": 0
      },
      "text/plain": [
       "0 examples [00:00, ? examples/s]"
      ]
     },
     "metadata": {},
     "output_type": "display_data"
    },
    {
     "data": {
      "application/vnd.jupyter.widget-view+json": {
       "model_id": "",
       "version_major": 2,
       "version_minor": 0
      },
      "text/plain": [
       "Shuffling...:   0%|          | 0/1 [00:00<?, ? shard/s]"
      ]
     },
     "metadata": {},
     "output_type": "display_data"
    },
    {
     "data": {
      "application/vnd.jupyter.widget-view+json": {
       "model_id": "",
       "version_major": 2,
       "version_minor": 0
      },
      "text/plain": [
       "Reading...: 0 examples [00:00, ? examples/s]"
      ]
     },
     "metadata": {},
     "output_type": "display_data"
    },
    {
     "data": {
      "application/vnd.jupyter.widget-view+json": {
       "model_id": "",
       "version_major": 2,
       "version_minor": 0
      },
      "text/plain": [
       "Writing...:   0%|          | 0/10000 [00:00<?, ? examples/s]"
      ]
     },
     "metadata": {},
     "output_type": "display_data"
    },
    {
     "name": "stderr",
     "output_type": "stream",
     "text": [
      "WARNING:absl:Warning: Setting shuffle_files=True because split=TRAIN and shuffle_files=None. This behavior will be deprecated on 2019-08-06, at which point shuffle_files=False will be the default for all splits.\n"
     ]
    },
    {
     "name": "stdout",
     "output_type": "stream",
     "text": [
      "\u001b[1mDataset mnist downloaded and prepared to C:\\Users\\nowes\\tensorflow_datasets\\mnist\\1.0.0. Subsequent calls will reuse this data.\u001b[0m\n"
     ]
    },
    {
     "ename": "ValueError",
     "evalue": "not enough values to unpack (expected 4, got 2)",
     "output_type": "error",
     "traceback": [
      "\u001b[1;31m---------------------------------------------------------------------------\u001b[0m",
      "\u001b[1;31mValueError\u001b[0m                                Traceback (most recent call last)",
      "\u001b[1;32m<ipython-input-19-c2f4f8bb6275>\u001b[0m in \u001b[0;36m<module>\u001b[1;34m\u001b[0m\n\u001b[0;32m      1\u001b[0m \u001b[1;31m#Stage-01 Setup\u001b[0m\u001b[1;33m\u001b[0m\u001b[1;33m\u001b[0m\u001b[1;33m\u001b[0m\u001b[0m\n\u001b[0;32m      2\u001b[0m \u001b[1;31m# train_X,train_Y,test_X,test_Y=download_MNIST_dataset_and_return_train_and_test_data()\u001b[0m\u001b[1;33m\u001b[0m\u001b[1;33m\u001b[0m\u001b[1;33m\u001b[0m\u001b[0m\n\u001b[1;32m----> 3\u001b[1;33m \u001b[0mtrain_X\u001b[0m\u001b[1;33m,\u001b[0m\u001b[0mtrain_Y\u001b[0m\u001b[1;33m,\u001b[0m\u001b[0mtest_X\u001b[0m\u001b[1;33m,\u001b[0m\u001b[0mtest_Y\u001b[0m\u001b[1;33m=\u001b[0m\u001b[0mtfds\u001b[0m\u001b[1;33m.\u001b[0m\u001b[0mload\u001b[0m\u001b[1;33m(\u001b[0m\u001b[1;34m'mnist'\u001b[0m\u001b[1;33m)\u001b[0m\u001b[1;33m\u001b[0m\u001b[1;33m\u001b[0m\u001b[0m\n\u001b[0m\u001b[0;32m      4\u001b[0m \u001b[1;31m# train_X.shape= (55000,784), train_Y.shape= (55000,10)\u001b[0m\u001b[1;33m\u001b[0m\u001b[1;33m\u001b[0m\u001b[1;33m\u001b[0m\u001b[0m\n\u001b[0;32m      5\u001b[0m \u001b[0mX\u001b[0m\u001b[1;33m,\u001b[0m\u001b[0mY\u001b[0m\u001b[1;33m,\u001b[0m\u001b[0mw\u001b[0m\u001b[1;33m,\u001b[0m\u001b[0mb\u001b[0m\u001b[1;33m=\u001b[0m\u001b[0mset_placeholder_weights_biases\u001b[0m\u001b[1;33m(\u001b[0m\u001b[0mtrain_X\u001b[0m\u001b[1;33m.\u001b[0m\u001b[0mshape\u001b[0m\u001b[1;33m[\u001b[0m\u001b[1;36m1\u001b[0m\u001b[1;33m]\u001b[0m\u001b[1;33m,\u001b[0m\u001b[0mtrain_Y\u001b[0m\u001b[1;33m.\u001b[0m\u001b[0mshape\u001b[0m\u001b[1;33m[\u001b[0m\u001b[1;36m1\u001b[0m\u001b[1;33m]\u001b[0m\u001b[1;33m)\u001b[0m\u001b[1;33m\u001b[0m\u001b[1;33m\u001b[0m\u001b[0m\n",
      "\u001b[1;31mValueError\u001b[0m: not enough values to unpack (expected 4, got 2)"
     ]
    }
   ],
   "source": [
    "#Stage-01 Setup\n",
    "# train_X,train_Y,test_X,test_Y=download_MNIST_dataset_and_return_train_and_test_data()\n",
    "train_X,train_Y,test_X,test_Y=tfds.load('mnist')\n",
    "# train_X.shape= (55000,784), train_Y.shape= (55000,10)\n",
    "X,Y,w,b=set_placeholder_weights_biases(train_X.shape[1],train_Y.shape[1]) \n",
    "y_pred=forward_pass(X,w,b)\n",
    "error=multiclass_cost(y_pred,Y)"
   ]
  },
  {
   "cell_type": "raw",
   "metadata": {},
   "source": [
    "#### Stage-2: Setting the hyperparameters i.e. learning_rate and epochs or iterations"
   ]
  },
  {
   "cell_type": "code",
   "execution_count": 20,
   "metadata": {},
   "outputs": [],
   "source": [
    "learning_rate=0.01\n",
    "epoches=100 # we believe, after the iteration of 1000 step, the training will converge to a \n",
    "#good prediction with minimal error"
   ]
  },
  {
   "cell_type": "raw",
   "metadata": {},
   "source": [
    "#### Stage-3: Setup the training module"
   ]
  },
  {
   "cell_type": "code",
   "execution_count": 21,
   "metadata": {},
   "outputs": [
    {
     "name": "stdout",
     "output_type": "stream",
     "text": [
      "into :training_operation: Training with 55000 Samples\n"
     ]
    }
   ],
   "source": [
    "training_op=training_operation(learning_rate,error,train_X.shape[0])"
   ]
  },
  {
   "cell_type": "markdown",
   "metadata": {},
   "source": [
    "##### Set two tracer , (a) loss_tracer (b) accuracy_tracer"
   ]
  },
  {
   "cell_type": "code",
   "execution_count": 22,
   "metadata": {},
   "outputs": [],
   "source": [
    "loss_tracer=[]\n",
    "accuracy_tracer=[]"
   ]
  },
  {
   "cell_type": "code",
   "execution_count": 23,
   "metadata": {},
   "outputs": [],
   "source": [
    "import pandas as pd"
   ]
  },
  {
   "cell_type": "markdown",
   "metadata": {},
   "source": [
    "### Start the Session, Simulation begins here"
   ]
  },
  {
   "cell_type": "code",
   "execution_count": 24,
   "metadata": {},
   "outputs": [
    {
     "name": "stdout",
     "output_type": "stream",
     "text": [
      "Initializing all variable using: init\n",
      "Before Training Session Weight(W) Vector and Bias (B) was as follows:\n",
      "\n",
      "Weights(W) of Shape (784, 10):\n",
      "[[-0.7697948   0.5024563  -0.4003449  -1.2203169   0.24786478  1.0961665\n",
      "   1.536401   -0.74641746  0.5966652  -0.25403756]\n",
      " [-0.92912793 -0.02119926  0.2859438   1.9084064   1.7009747  -1.4422938\n",
      "  -0.46659297 -0.8146334  -1.5958278  -0.3760937 ]\n",
      " [ 0.785407    1.0251582  -1.8406192  -2.0898666   1.6831301   0.01049775\n",
      "   2.0170305   0.49112248  0.45438242 -0.29025108]\n",
      " [-0.8093431   0.0886313  -1.2801602  -0.16453478 -2.0888746   0.17004296\n",
      "   0.18215144 -1.5263346  -1.1874919   0.11449195]\n",
      " [-2.1555488  -3.2709298  -0.04314548  0.8319107  -0.81555754 -0.04834097\n",
      "  -1.4824046   1.3104256  -1.5239644   0.28838104]\n",
      " [ 1.1786666   0.03079147 -0.89580154 -1.32013     3.0163538   1.1720791\n",
      "  -0.94114053  0.6966696  -1.4271837  -0.91039693]\n",
      " [ 0.65833014 -0.81270593 -0.2959548   0.72155905  0.14074253  0.13128911\n",
      "  -0.0178101  -1.1970078   0.76201826 -0.4640618 ]\n",
      " [-0.31794393  0.28015947  0.7079238  -0.2648809   0.20004599 -0.76068896\n",
      "  -1.3799218  -1.8994932  -1.8779402  -0.49389616]\n",
      " [ 0.05402704  1.3310517   0.4254161  -0.4772862   0.07251772 -0.01259867\n",
      "  -0.8225995  -1.0145075   1.7962574  -1.1386733 ]\n",
      " [-0.45001557 -0.35702583  1.1792421  -2.2093527  -0.77337265 -0.4479695\n",
      "   0.8086472  -0.4518794  -0.42908835 -1.2820355 ]]\n",
      "Bias(B) of Shape (10,):\n",
      "[-0.3576103   0.2690484   1.5210254   0.7484119  -0.9585251   0.7185452\n",
      "  1.2791642  -1.5724481  -0.9352611  -0.71235025]\n",
      "       error  accuracy\n",
      "0   2.573478  0.099400\n",
      "1   2.545369  0.099491\n",
      "2   2.518729  0.099673\n",
      "3   2.493417  0.099982\n",
      "4   2.469313  0.100855\n",
      "..       ...       ...\n",
      "95  1.604782  0.713055\n",
      "96  1.599479  0.714273\n",
      "97  1.594214  0.715527\n",
      "98  1.588989  0.717091\n",
      "99  1.583803  0.718382\n",
      "\n",
      "[100 rows x 2 columns]\n",
      "Generating the Summary Report\n",
      "-------------------------------\n",
      "\n",
      "After Training Session Weight(W) Vector and Bias (B) has been updated as follows:\n",
      "\n",
      "Weights(W) of Shape (784, 10):\n",
      "[[-0.657723    0.5132749  -0.08326637 -0.7756247   0.02765366  1.0097404\n",
      "   1.1796963  -0.7022565   0.26729095 -0.26198575]\n",
      " [-0.7606489   0.17599216  0.39376035  1.4718575   1.0842313  -1.064469\n",
      "  -0.12141623 -0.7473717  -1.4205651  -0.35559878]\n",
      " [ 0.34690544  0.8499434  -1.0843747  -1.4002557   1.0712562   0.12262616\n",
      "   1.4919057   0.11620003  0.15775684 -0.28976032]\n",
      " [-0.68327034  0.24673323 -0.6948099  -0.0172158  -1.6714238   0.25299266\n",
      "   0.2999977  -1.2180609  -1.106214    0.0206642 ]\n",
      " [-1.5528915  -1.9171358   0.16501641  0.69856936 -0.7455763   0.07454826\n",
      "  -0.78127116  0.6580525  -1.3652422   0.15403138]\n",
      " [ 0.6009431   0.20947902 -0.4276492  -0.8473243   2.0406628   1.0717696\n",
      "  -0.42967474  0.2521402  -1.290737   -0.7653916 ]\n",
      " [ 0.26481643 -0.33381152 -0.01070673  0.61929953 -0.0502365   0.22132638\n",
      "   0.17010589 -1.000258    0.39458537 -0.42306742]\n",
      " [-0.36583653  0.37009513  0.68707097 -0.08929826 -0.00711607 -0.50752074\n",
      "  -0.7147     -1.4648521  -1.6377448  -0.4459494 ]\n",
      " [-0.12555094  1.0469671   0.490705   -0.24187715 -0.09984376  0.10375376\n",
      "  -0.35267234 -0.87955993  1.190778   -0.940472  ]\n",
      " [-0.4511521  -0.04031131  1.0146757  -1.4860872  -0.71490306 -0.25199348\n",
      "   0.70695925 -0.50746155 -0.52236915 -1.0504261 ]]\n",
      "Bias(B) of Shape (10,):\n",
      "[-0.37166765  0.3041512   1.5108359   0.74209964 -0.9535967   0.7245084\n",
      "  1.2771477  -1.5656985  -0.9532526  -0.7145276 ]\n",
      "Final Training Result:\t Error: 158.3803415298462%\t Accuracy: 71.83818181818182%\n",
      "Result of Test Data:\t Error: 156.36084079742432%\t Accuracy: 73.59%\n"
     ]
    }
   ],
   "source": [
    "with tf.Session() as sess:\n",
    "    sess.run(init())\n",
    "    print(\"Before Training Session Weight(W) Vector and Bias (B) was as follows:\\n\")\n",
    "    print(\"Weights(W) of Shape {}:\\n{}\".format(w.shape,data_normalization_z(w.eval())[:10]))\n",
    "    print(\"Bias(B) of Shape {}:\\n{}\".format(b.shape,data_normalization_z(b.eval())[:10]))\n",
    "    \n",
    "    for step in range(epoches):\n",
    "        #-----------------This Section is for Loss or Error Calculation---------------------------\n",
    "        _,loss_=sess.run([training_op,error],feed_dict={X:train_X,Y:train_Y})\n",
    "        ##print(\"Error:{}%\".format(loss_*100))\n",
    "        loss_tracer.append(loss_)\n",
    "\n",
    "\n",
    "        #------------------This Section is For Accuracy Calculation-------------------------------\n",
    "        #column_name=[\"y_hat\",\"y_act\"]\n",
    "        y_hat=np.argmax(sess.run(y_pred,feed_dict={X:train_X,Y:train_Y}),axis=1)\n",
    "\n",
    "        #sess.run(y_pred,feed_dict={X:train_X,Y:train_Y}) returns y_pred in the shape of (55000,10)\n",
    "        #np.argmax(sess.run(y_pred,feed_dict={X:train_X,Y:train_Y}),axis=1) -->\n",
    "        #converts y_pred shape of (55000,10) into (55000,) in the flattern format\n",
    "\n",
    "        ##print(\"y_hat_shape:{}\".format(y_hat.shape))\n",
    "        #print(\"y_hat:\\n{}\".format(y_hat[:10]))\n",
    "        #print(y_hat.dtype)\n",
    "\n",
    "\n",
    "        y_act=np.argmax(train_Y,axis=1)\n",
    "        ##print(\"y_act_shape:{}\".format(y_act.shape))\n",
    "        #print(\"y_act:\\n{}\".format(y_act[:10]))\n",
    "        #print(y_act.dtype)\n",
    "\n",
    "\n",
    "        comparison=(y_hat==y_act)\n",
    "\n",
    "\n",
    "        #set_range, R\n",
    "        \n",
    "        R=20\n",
    "        #d={\"y_hat\":[y_hat[i] for i in range(R)],\"y_act\":[y_act[j] for j in range(R)],\n",
    "           #\"Comparison\":[comparison[k] for k in range(R)]}\n",
    "        #df=pd.DataFrame(data=d)\n",
    "        #print(df.head(R))\n",
    "\n",
    "        accuracy_=np.mean(comparison)\n",
    "        #print(\"Accuracy:{}%\".format(accuracy_*100))\n",
    "\n",
    "        accuracy_tracer.append(accuracy_)\n",
    "    \n",
    "    #------------------------Printing the Training information-----------------------------------------------------\n",
    "    d1={\"error\":[loss_tracer[i] for i in range(epoches)],\"accuracy\":[accuracy_tracer[j] for j in range(epoches)]}\n",
    "    df1=pd.DataFrame(data=d1)\n",
    "    print(df1.head(epoches))\n",
    "    \n",
    "    \n",
    "    #After the end of the training the Weight and Bias vectors are already updated, \n",
    "    #which will be later used in the testing data\n",
    "    \n",
    "    #----------------Now use the Test data for validation----------------------\n",
    "    loss_test=sess.run(error,feed_dict={X:test_X,Y:test_Y})\n",
    "    y_hat_test=np.argmax(sess.run(y_pred,feed_dict={X:test_X,Y:test_Y}),axis=1)\n",
    "    y_act_test=np.argmax(test_Y,axis=1)\n",
    "    comparison_test=(y_hat_test==y_act_test)\n",
    "    accuracy_test=np.mean(comparison_test)\n",
    "    \n",
    "    \n",
    "    #-------------Generating Summary Report------------------------------\n",
    "    print(\"Generating the Summary Report\\n-------------------------------\\n\")\n",
    "    \n",
    "    print(\"After Training Session Weight(W) Vector and Bias (B) has been updated as follows:\\n\")\n",
    "    \n",
    "    print(\"Weights(W) of Shape {}:\\n{}\".format(w.shape,data_normalization_z(w.eval())[:10]))\n",
    "    print(\"Bias(B) of Shape {}:\\n{}\".format(b.shape,data_normalization_z(b.eval())[:10]))\n",
    "    \n",
    "    print(\"Final Training Result:\\t Error: {}%\\t Accuracy: {}%\".format(loss_tracer[-1]*100,accuracy_tracer[-1]*100))\n",
    "    print(\"Result of Test Data:\\t Error: {}%\\t Accuracy: {}%\".format(loss_test*100,accuracy_test*100))\n",
    "    \n",
    "        "
   ]
  },
  {
   "cell_type": "markdown",
   "metadata": {},
   "source": [
    "## Drawing the graphs"
   ]
  },
  {
   "cell_type": "code",
   "execution_count": 25,
   "metadata": {},
   "outputs": [],
   "source": [
    "import matplotlib.pyplot as plt"
   ]
  },
  {
   "cell_type": "code",
   "execution_count": 26,
   "metadata": {},
   "outputs": [],
   "source": [
    "%matplotlib inline"
   ]
  },
  {
   "cell_type": "code",
   "execution_count": 27,
   "metadata": {},
   "outputs": [
    {
     "name": "stdout",
     "output_type": "stream",
     "text": [
      "Actual Digits:[7 2 1 0 4 1 4 9 5 9]\n"
     ]
    }
   ],
   "source": [
    "print(\"Actual Digits:{}\".format(np.argmax(test_Y[:10],axis=1)))"
   ]
  },
  {
   "cell_type": "code",
   "execution_count": 28,
   "metadata": {},
   "outputs": [
    {
     "name": "stdout",
     "output_type": "stream",
     "text": [
      "Predicted Digits: [7 2 1 0 2 1 4 9 6 7]\n"
     ]
    }
   ],
   "source": [
    "print(\"Predicted Digits: {}\".format(y_hat_test[:10]))"
   ]
  },
  {
   "cell_type": "code",
   "execution_count": 29,
   "metadata": {},
   "outputs": [],
   "source": [
    "from pylab import *"
   ]
  },
  {
   "cell_type": "code",
   "execution_count": 30,
   "metadata": {},
   "outputs": [
    {
     "data": {
      "image/png": "[encoded data removed]",
      "text/plain": [
       "<Figure size 720x288 with 30 Axes>"
      ]
     },
     "metadata": {
      "needs_background": "light"
     },
     "output_type": "display_data"
    }
   ],
   "source": [
    "#remember, only the training data and testing data has the shape of (?,784)\n",
    "#having all the features of shape 28X28 pixels. \n",
    "fig,(ax1,ax2)=plt.subplots(2,15,figsize=(10,4))\n",
    "\n",
    "for i in range(15):\n",
    "    ax1[i].imshow(np.reshape(train_X[i],(28,28)))\n",
    "for j in range(15):\n",
    "    ax2[j].imshow(np.reshape(test_X[j],(28,28)))"
   ]
  },
  {
   "cell_type": "code",
   "execution_count": 31,
   "metadata": {},
   "outputs": [
    {
     "data": {
      "text/plain": [
       "(784,)"
      ]
     },
     "execution_count": 31,
     "metadata": {},
     "output_type": "execute_result"
    }
   ],
   "source": [
    "test_X[0].shape\n"
   ]
  },
  {
   "cell_type": "code",
   "execution_count": 32,
   "metadata": {},
   "outputs": [
    {
     "data": {
      "text/plain": [
       "(10000, 10)"
      ]
     },
     "execution_count": 32,
     "metadata": {},
     "output_type": "execute_result"
    }
   ],
   "source": [
    "test_Y.shape"
   ]
  },
  {
   "cell_type": "code",
   "execution_count": null,
   "metadata": {},
   "outputs": [],
   "source": []
  }
 ],
 "metadata": {
  "kernelspec": {
   "display_name": "Python 3",
   "language": "python",
   "name": "python3"
  },
  "language_info": {
   "codemirror_mode": {
    "name": "ipython",
    "version": 3
   },
   "file_extension": ".py",
   "mimetype": "text/x-python",
   "name": "python",
   "nbconvert_exporter": "python",
   "pygments_lexer": "ipython3",
   "version": "3.8.8"
  }
 },
 "nbformat": 4,
 "nbformat_minor": 2
}
