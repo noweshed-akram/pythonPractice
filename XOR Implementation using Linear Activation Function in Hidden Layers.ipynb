{
 "cells": [
  {
   "cell_type": "code",
   "execution_count": 2,
   "metadata": {},
   "outputs": [],
   "source": [
    "import tensorflow as tf"
   ]
  },
  {
   "cell_type": "code",
   "execution_count": 3,
   "metadata": {},
   "outputs": [],
   "source": [
    "x_=tf.placeholder(tf.float32,shape=(4,2),name=\"x_input\")"
   ]
  },
  {
   "cell_type": "code",
   "execution_count": 4,
   "metadata": {},
   "outputs": [],
   "source": [
    "x_inputs=[\n",
    "    [0,0],\n",
    "    [0,1],\n",
    "    [1,0],\n",
    "    [1,1]\n",
    "]"
   ]
  },
  {
   "cell_type": "code",
   "execution_count": 5,
   "metadata": {},
   "outputs": [],
   "source": [
    "y_inputs=[\n",
    "    [0],\n",
    "    [1],\n",
    "    [1],\n",
    "    [0]\n",
    "]"
   ]
  },
  {
   "cell_type": "code",
   "execution_count": 6,
   "metadata": {},
   "outputs": [],
   "source": [
    "y_=tf.placeholder(tf.float32,shape=(4,1),name=\"y_input\")"
   ]
  },
  {
   "cell_type": "code",
   "execution_count": 7,
   "metadata": {},
   "outputs": [],
   "source": [
    "b1=tf.Variable(tf.zeros([2]),name=\"Bias_1\")"
   ]
  },
  {
   "cell_type": "code",
   "execution_count": 8,
   "metadata": {},
   "outputs": [],
   "source": [
    "b2=tf.Variable(tf.zeros([1]),name=\"Bias_2\")"
   ]
  },
  {
   "cell_type": "code",
   "execution_count": 9,
   "metadata": {},
   "outputs": [],
   "source": [
    "w1=tf.Variable(tf.random_uniform([2,2],-1,1),name=\"Weights_1\")\n"
   ]
  },
  {
   "cell_type": "code",
   "execution_count": 10,
   "metadata": {},
   "outputs": [],
   "source": [
    "w2=tf.Variable(tf.random_uniform([2,1],-1,1),name=\"Weights_2\")"
   ]
  },
  {
   "cell_type": "markdown",
   "metadata": {},
   "source": [
    "### Printing the initial setup values"
   ]
  },
  {
   "cell_type": "code",
   "execution_count": 18,
   "metadata": {},
   "outputs": [
    {
     "name": "stdout",
     "output_type": "stream",
     "text": [
      "Printing x_inputs\n",
      "----------------------\n",
      " [[0. 0.]\n",
      " [0. 1.]\n",
      " [1. 0.]\n",
      " [1. 1.]]\n",
      "\n",
      "\n",
      "Printing y_outputs (target output)\n",
      "---------------------------------\n",
      " [[0.]\n",
      " [1.]\n",
      " [1.]\n",
      " [0.]]\n",
      "\n",
      "\n",
      "Printing b1 Values:\n",
      "--------------------\n",
      " [0. 0.]\n",
      "\n",
      "\n",
      "Printing b2 Values:\n",
      "--------------------\n",
      " [0.]\n",
      "\n",
      "\n",
      "Printing w1 Values:\n",
      "--------------------\n",
      " [[-0.6665554   0.8346503 ]\n",
      " [ 0.36399174  0.4497769 ]]\n",
      "\n",
      "\n",
      "Printing w2 Values:\n",
      "--------------------\n",
      " [[ 0.3832655 ]\n",
      " [-0.15135407]]\n",
      "\n",
      "\n",
      "[[0. 0.]\n",
      " [0. 1.]\n",
      " [1. 0.]\n",
      " [1. 1.]]\n"
     ]
    }
   ],
   "source": [
    "with tf.Session() as sess:\n",
    "    sess.run(tf.global_variables_initializer())\n",
    "    print(\"Printing x_inputs\\n----------------------\\n {}\\n\\n\".format(sess.run(x_,feed_dict={x_:x_inputs})))\n",
    "    print(\"Printing y_outputs (target output)\\n---------------------------------\\n {}\\n\\n\".format(sess.run(y_,feed_dict={y_:y_inputs})))\n",
    "    print(\"Printing b1 Values:\\n--------------------\\n {}\\n\\n\".format(b1.eval()))\n",
    "    print(\"Printing b2 Values:\\n--------------------\\n {}\\n\\n\".format(b2.eval()))\n",
    "    print(\"Printing w1 Values:\\n--------------------\\n {}\\n\\n\".format(w1.eval()))\n",
    "    print(\"Printing w2 Values:\\n--------------------\\n {}\\n\\n\".format(w2.eval()))\n",
    "    x1=x_inputs+b1\n",
    "    print(x1.eval())"
   ]
  },
  {
   "cell_type": "markdown",
   "metadata": {},
   "source": [
    "### Generating the predicted output\n",
    "### Applying the linear activation function insted of non-linear activation function in hidden layer to check the prediction performance"
   ]
  },
  {
   "cell_type": "code",
   "execution_count": 19,
   "metadata": {},
   "outputs": [],
   "source": [
    "h34=tf.matmul(x_,w1)+b1\n",
    "#here we are applying linear activation insted of non-linear activation function (sigmoid)\n",
    "# Main Target is to check how the prediction perform when the activation function is linear"
   ]
  },
  {
   "cell_type": "code",
   "execution_count": 20,
   "metadata": {},
   "outputs": [],
   "source": [
    "y_pred=tf.sigmoid(tf.matmul(h34,w2)+b2)"
   ]
  },
  {
   "cell_type": "code",
   "execution_count": 21,
   "metadata": {},
   "outputs": [
    {
     "name": "stdout",
     "output_type": "stream",
     "text": [
      "Printing hidden layer values (H34):\n",
      "............................\n",
      " [[ 0.          0.        ]\n",
      " [ 0.46105266 -0.9572625 ]\n",
      " [ 0.9215796   0.32891488]\n",
      " [ 1.3826323  -0.62834764]]\n",
      "\n",
      "\n",
      "Printing Y_Predicted:\n",
      "-----------------------------\n",
      " [[0.5       ]\n",
      " [0.6241586 ]\n",
      " [0.37354663]\n",
      " [0.4975515 ]]\n",
      "\n",
      "\n"
     ]
    }
   ],
   "source": [
    "with tf.Session() as sess:\n",
    "    sess.run(tf.global_variables_initializer())\n",
    "    print(\"Printing hidden layer values (H34):\\n............................\\n {}\\n\\n\".format(sess.run(h34,feed_dict={x_:x_inputs})))\n",
    "    print(\"Printing Y_Predicted:\\n-----------------------------\\n {}\\n\\n\".format(sess.run(y_pred,feed_dict={x_:x_inputs})))\n",
    "    "
   ]
  },
  {
   "cell_type": "markdown",
   "metadata": {},
   "source": [
    "### Define the Log loss or cross-entropy for updating the cost function "
   ]
  },
  {
   "cell_type": "code",
   "execution_count": 22,
   "metadata": {},
   "outputs": [],
   "source": [
    "cost=tf.reduce_mean((y_*tf.log(y_pred)+(1-y_)*tf.log(1.0-y_pred))*-1)\n",
    "learning_rate=0.01\n",
    "training_step=tf.train.GradientDescentOptimizer(learning_rate).minimize(cost)"
   ]
  },
  {
   "cell_type": "code",
   "execution_count": 24,
   "metadata": {},
   "outputs": [
    {
     "name": "stdout",
     "output_type": "stream",
     "text": [
      "WARNING:tensorflow:Passing a `GraphDef` to the SummaryWriter is deprecated. Pass a `Graph` object instead, such as `sess.graph`.\n",
      "Printing hidden layer values (H34):\n",
      "............................\n",
      " [[ 0.          0.        ]\n",
      " [-0.6911986  -0.04774952]\n",
      " [-0.32124877  0.76875615]\n",
      " [-1.0124474   0.72100663]]\n",
      "\n",
      "\n",
      "Printing Y_Predicted (Before Training):\n",
      "-----------------------------\n",
      " [[0.5       ]\n",
      " [0.6495712 ]\n",
      " [0.63907796]\n",
      " [0.7664761 ]]\n",
      "\n",
      "\n",
      "Cost Function (Initial):\n",
      "--------------------\n",
      "0.756697416305542 \n",
      "\n",
      "\n",
      "Training (Updating the cost function- minimizing):\n",
      "----------------------------------\n",
      "\n",
      "Final Y_prediction (After Training)\n",
      "------------------------\n",
      " [[0.49999762]\n",
      " [0.49999928]\n",
      " [0.5000006 ]\n",
      " [0.50000215]] \n",
      "\n",
      "\n"
     ]
    }
   ],
   "source": [
    "with tf.Session() as sess:\n",
    "    writer=tf.summary.FileWriter(\"./Downloads/XOR_logs_final\",sess.graph_def)\n",
    "    sess.run(tf.global_variables_initializer())\n",
    "    print(\"Printing hidden layer values (H34):\\n............................\\n {}\\n\\n\".format(sess.run(h34,feed_dict={x_:x_inputs})))\n",
    "    print(\"Printing Y_Predicted (Before Training):\\n-----------------------------\\n {}\\n\\n\".format(sess.run(y_pred,feed_dict={x_:x_inputs})))\n",
    "    print(\"Cost Function (Initial):\\n--------------------\\n{} \\n\\n\".format(sess.run(cost,feed_dict={x_:x_inputs,y_:y_inputs})))\n",
    "    \n",
    "    #checking the cost function after each training step\n",
    "    print(\"Training (Updating the cost function- minimizing):\\n----------------------------------\\n\")\n",
    "    for step in range(100000):\n",
    "        #print(step,end=\" \")\n",
    "        _,loss_val,pred_y,weight_1,weight_2,bias_1,bias_2=\\\n",
    "            sess.run([training_step,cost,y_pred,w1,w2,b1,b2],feed_dict={x_:x_inputs,y_:y_inputs})\n",
    "        #print(\"Cost/Y_pred/Weight1/Weight2/Bias1/Bias2 (Updated @ step {}):\\n{}:\\n\\n{}:\\n\\n{}:\\n\\n{}:\\n\\n{}:\\n\\n{}\".\\\n",
    "              #format(step,loss_val,pred_y,weight_1,weight_2,bias_1,bias_2))\n",
    "    #print(\"\\n\\n\")\n",
    "    print(\"Final Y_prediction (After Training)\\n------------------------\\n {} \\n\\n\".format(sess.run(y_pred,feed_dict={x_:x_inputs,y_:y_inputs})))\n",
    "    "
   ]
  },
  {
   "cell_type": "code",
   "execution_count": 25,
   "metadata": {},
   "outputs": [],
   "source": [
    "import tensorboard\n"
   ]
  },
  {
   "cell_type": "code",
   "execution_count": null,
   "metadata": {},
   "outputs": [],
   "source": [
    "%%cmd\n",
    "tensorboard --logdir=./Downloads/XOR_logs_final --host=127.0.0.1"
   ]
  }
 ],
 "metadata": {
  "kernelspec": {
   "display_name": "Python 3",
   "language": "python",
   "name": "python3"
  },
  "language_info": {
   "codemirror_mode": {
    "name": "ipython",
    "version": 3
   },
   "file_extension": ".py",
   "mimetype": "text/x-python",
   "name": "python",
   "nbconvert_exporter": "python",
   "pygments_lexer": "ipython3",
   "version": "3.8.8"
  }
 },
 "nbformat": 4,
 "nbformat_minor": 2
}
